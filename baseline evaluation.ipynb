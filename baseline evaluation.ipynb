{
 "cells": [
  {
   "cell_type": "code",
   "execution_count": 75,
   "id": "dcae74f2",
   "metadata": {},
   "outputs": [],
   "source": [
    "import numpy as np\n",
    "import pandas as pd\n",
    "from sklearn.ensemble import RandomForestRegressor, BaggingRegressor\n",
    "from sklearn.metrics import mean_squared_error\n",
    "from sklearn.model_selection import train_test_split\n",
    "from nltk.stem.snowball import SnowballStemmer"
   ]
  },
  {
   "cell_type": "markdown",
   "id": "ec8c1be9",
   "metadata": {},
   "source": [
    "# Create the dataframes"
   ]
  },
  {
   "cell_type": "code",
   "execution_count": 76,
   "id": "616ef70e",
   "metadata": {},
   "outputs": [],
   "source": [
    "df_train = pd.read_csv('home_depot_data/train.csv', encoding=\"ISO-8859-1\")\n",
    "df_test = pd.read_csv('home_depot_data/test.csv', encoding=\"ISO-8859-1\")\n",
    "df_attr = pd.read_csv('home_depot_data/attributes.csv')\n",
    "df_pro_desc = pd.read_csv('home_depot_data/product_descriptions.csv')"
   ]
  },
  {
   "cell_type": "markdown",
   "id": "15600763",
   "metadata": {},
   "source": [
    "# Add stemmer"
   ]
  },
  {
   "cell_type": "code",
   "execution_count": 77,
   "id": "56870a72",
   "metadata": {},
   "outputs": [],
   "source": [
    "stemmer = SnowballStemmer('english')\n",
    "def str_stemmer(s):\n",
    "\treturn \" \".join([stemmer.stem(word) for word in s.lower().split()])\n",
    "\n",
    "def str_common_word(str1, str2):\n",
    "\treturn sum(int(str2.find(word)>=0) for word in str1.split())"
   ]
  },
  {
   "cell_type": "code",
   "execution_count": 78,
   "id": "1463e947",
   "metadata": {},
   "outputs": [
    {
     "data": {
      "text/html": [
       "<div>\n",
       "<style scoped>\n",
       "    .dataframe tbody tr th:only-of-type {\n",
       "        vertical-align: middle;\n",
       "    }\n",
       "\n",
       "    .dataframe tbody tr th {\n",
       "        vertical-align: top;\n",
       "    }\n",
       "\n",
       "    .dataframe thead th {\n",
       "        text-align: right;\n",
       "    }\n",
       "</style>\n",
       "<table border=\"1\" class=\"dataframe\">\n",
       "  <thead>\n",
       "    <tr style=\"text-align: right;\">\n",
       "      <th></th>\n",
       "      <th>id</th>\n",
       "      <th>product_uid</th>\n",
       "      <th>product_title</th>\n",
       "      <th>search_term</th>\n",
       "      <th>relevance</th>\n",
       "    </tr>\n",
       "  </thead>\n",
       "  <tbody>\n",
       "    <tr>\n",
       "      <th>0</th>\n",
       "      <td>2</td>\n",
       "      <td>100001</td>\n",
       "      <td>Simpson Strong-Tie 12-Gauge Angle</td>\n",
       "      <td>angle bracket</td>\n",
       "      <td>3.00</td>\n",
       "    </tr>\n",
       "    <tr>\n",
       "      <th>1</th>\n",
       "      <td>3</td>\n",
       "      <td>100001</td>\n",
       "      <td>Simpson Strong-Tie 12-Gauge Angle</td>\n",
       "      <td>l bracket</td>\n",
       "      <td>2.50</td>\n",
       "    </tr>\n",
       "    <tr>\n",
       "      <th>2</th>\n",
       "      <td>9</td>\n",
       "      <td>100002</td>\n",
       "      <td>BEHR Premium Textured DeckOver 1-gal. #SC-141 ...</td>\n",
       "      <td>deck over</td>\n",
       "      <td>3.00</td>\n",
       "    </tr>\n",
       "    <tr>\n",
       "      <th>3</th>\n",
       "      <td>16</td>\n",
       "      <td>100005</td>\n",
       "      <td>Delta Vero 1-Handle Shower Only Faucet Trim Ki...</td>\n",
       "      <td>rain shower head</td>\n",
       "      <td>2.33</td>\n",
       "    </tr>\n",
       "    <tr>\n",
       "      <th>4</th>\n",
       "      <td>17</td>\n",
       "      <td>100005</td>\n",
       "      <td>Delta Vero 1-Handle Shower Only Faucet Trim Ki...</td>\n",
       "      <td>shower only faucet</td>\n",
       "      <td>2.67</td>\n",
       "    </tr>\n",
       "    <tr>\n",
       "      <th>...</th>\n",
       "      <td>...</td>\n",
       "      <td>...</td>\n",
       "      <td>...</td>\n",
       "      <td>...</td>\n",
       "      <td>...</td>\n",
       "    </tr>\n",
       "    <tr>\n",
       "      <th>74062</th>\n",
       "      <td>221457</td>\n",
       "      <td>206638</td>\n",
       "      <td>Atlantic Windowpane 576 CD or 192 DVD Blu-Ray ...</td>\n",
       "      <td>tv riser glass</td>\n",
       "      <td>1.00</td>\n",
       "    </tr>\n",
       "    <tr>\n",
       "      <th>74063</th>\n",
       "      <td>221458</td>\n",
       "      <td>206639</td>\n",
       "      <td>Philips 40-Watt Halogen R20 Flood Light Bulb (...</td>\n",
       "      <td>r20 halogen light</td>\n",
       "      <td>3.00</td>\n",
       "    </tr>\n",
       "    <tr>\n",
       "      <th>74064</th>\n",
       "      <td>221463</td>\n",
       "      <td>206641</td>\n",
       "      <td>Schlage Camelot In-Active Aged Bronze Handlese...</td>\n",
       "      <td>schlage lock siena half dummy knob with</td>\n",
       "      <td>2.33</td>\n",
       "    </tr>\n",
       "    <tr>\n",
       "      <th>74065</th>\n",
       "      <td>221471</td>\n",
       "      <td>206648</td>\n",
       "      <td>Plastec 11 in. x 24 in. Rose Garden Wall Decor...</td>\n",
       "      <td>zen garden  decor</td>\n",
       "      <td>3.00</td>\n",
       "    </tr>\n",
       "    <tr>\n",
       "      <th>74066</th>\n",
       "      <td>221473</td>\n",
       "      <td>206650</td>\n",
       "      <td>LICHTENBERG Pool Blue No. 918 Millennial Ryan ...</td>\n",
       "      <td>fine sheer curtain 63 inches</td>\n",
       "      <td>2.33</td>\n",
       "    </tr>\n",
       "  </tbody>\n",
       "</table>\n",
       "<p>74067 rows × 5 columns</p>\n",
       "</div>"
      ],
      "text/plain": [
       "           id  product_uid  ...                              search_term relevance\n",
       "0           2       100001  ...                            angle bracket      3.00\n",
       "1           3       100001  ...                                l bracket      2.50\n",
       "2           9       100002  ...                                deck over      3.00\n",
       "3          16       100005  ...                         rain shower head      2.33\n",
       "4          17       100005  ...                       shower only faucet      2.67\n",
       "...       ...          ...  ...                                      ...       ...\n",
       "74062  221457       206638  ...                           tv riser glass      1.00\n",
       "74063  221458       206639  ...                        r20 halogen light      3.00\n",
       "74064  221463       206641  ...  schlage lock siena half dummy knob with      2.33\n",
       "74065  221471       206648  ...                        zen garden  decor      3.00\n",
       "74066  221473       206650  ...             fine sheer curtain 63 inches      2.33\n",
       "\n",
       "[74067 rows x 5 columns]"
      ]
     },
     "execution_count": 78,
     "metadata": {},
     "output_type": "execute_result"
    }
   ],
   "source": [
    "df_train"
   ]
  },
  {
   "cell_type": "markdown",
   "id": "064f13f5",
   "metadata": {},
   "source": [
    "# Dataframe processing"
   ]
  },
  {
   "cell_type": "code",
   "execution_count": 79,
   "id": "38fb4b70",
   "metadata": {},
   "outputs": [],
   "source": [
    "df_train_base = df_train.drop(['search_term','product_title'],axis=1)\n",
    "df_train['search_term'] = df_train['search_term'].map(lambda x:str_stemmer(x))\n",
    "df_train['product_title'] = df_train['product_title'].map(lambda x:str_stemmer(x))\n",
    "df_train['len_of_query'] = df_train['search_term'].map(lambda x:len(x.split())).astype(np.int64)\n",
    "df_train['product_info'] = df_train['search_term']+\"\\t\"+df_train['product_title']\n",
    "df_train['word_in_title'] = df_train['product_info'].map(lambda x:str_common_word(x.split('\\t')[0],x.split('\\t')[1]))\n",
    "df_train = df_train.drop(['search_term','product_title', 'product_info'],axis=1)"
   ]
  },
  {
   "cell_type": "code",
   "execution_count": 80,
   "id": "d8030299",
   "metadata": {},
   "outputs": [],
   "source": [
    "train, test = train_test_split(df_train, test_size=0.2, random_state=23)\n",
    "base_train, base_test = train_test_split(df_train_base, test_size=0.2, random_state=23)"
   ]
  },
  {
   "cell_type": "markdown",
   "id": "093ffe48",
   "metadata": {},
   "source": [
    "# Define test and training sets"
   ]
  },
  {
   "cell_type": "code",
   "execution_count": 81,
   "id": "908d4b55",
   "metadata": {},
   "outputs": [],
   "source": [
    "id_test = test['id']\n",
    "y_train = train['relevance'].values\n",
    "X_train = train.drop(['id','relevance'],axis=1).values\n",
    "X_test = test.drop(['id','relevance'],axis=1).values\n",
    "y_test = test['relevance'].values"
   ]
  },
  {
   "cell_type": "code",
   "execution_count": 82,
   "id": "60f963f2",
   "metadata": {},
   "outputs": [],
   "source": [
    "rf = RandomForestRegressor(n_estimators=15, max_depth=6, random_state=0)\n",
    "clf = BaggingRegressor(rf, n_estimators=45, max_samples=0.1, random_state=25)\n",
    "clf.fit(X_train, y_train)\n",
    "y_pred = clf.predict(X_test)"
   ]
  },
  {
   "cell_type": "code",
   "execution_count": 83,
   "id": "5dcb0c8b",
   "metadata": {},
   "outputs": [],
   "source": [
    "id_base_test = base_test['id']\n",
    "y_base_train = base_train['relevance'].values\n",
    "X_base_train = base_train.drop(['id','relevance'],axis=1).values\n",
    "X_base_test = base_test.drop(['id','relevance'],axis=1).values\n",
    "y_base_test = base_test['relevance'].values"
   ]
  },
  {
   "cell_type": "code",
   "execution_count": null,
   "id": "b0f7e8a8",
   "metadata": {},
   "outputs": [
    {
     "ename": "NotFittedError",
     "evalue": "This RandomForestRegressor instance is not fitted yet. Call 'fit' with appropriate arguments before using this estimator.",
     "output_type": "error",
     "traceback": [
      "\u001b[31m---------------------------------------------------------------------------\u001b[39m",
      "\u001b[31mNotFittedError\u001b[39m                            Traceback (most recent call last)",
      "\u001b[36mCell\u001b[39m\u001b[36m \u001b[39m\u001b[32mIn[85]\u001b[39m\u001b[32m, line 4\u001b[39m\n\u001b[32m      2\u001b[39m clf_base = BaggingRegressor(rf_base, n_estimators=\u001b[32m45\u001b[39m, max_samples=\u001b[32m0.1\u001b[39m, random_state=\u001b[32m25\u001b[39m)\n\u001b[32m      3\u001b[39m clf_base.fit(X_base_train, y_base_train)\n\u001b[32m----> \u001b[39m\u001b[32m4\u001b[39m y_base_pred = \u001b[43mrf_base\u001b[49m\u001b[43m.\u001b[49m\u001b[43mpredict\u001b[49m\u001b[43m(\u001b[49m\u001b[43mX_base_test\u001b[49m\u001b[43m)\u001b[49m\n",
      "\u001b[36mFile \u001b[39m\u001b[32mc:\\Users\\dsour\\data-science-a3\\venv\\Lib\\site-packages\\sklearn\\ensemble\\_forest.py:1064\u001b[39m, in \u001b[36mForestRegressor.predict\u001b[39m\u001b[34m(self, X)\u001b[39m\n\u001b[32m   1045\u001b[39m \u001b[38;5;28;01mdef\u001b[39;00m\u001b[38;5;250m \u001b[39m\u001b[34mpredict\u001b[39m(\u001b[38;5;28mself\u001b[39m, X):\n\u001b[32m   1046\u001b[39m \u001b[38;5;250m    \u001b[39m\u001b[33;03m\"\"\"\u001b[39;00m\n\u001b[32m   1047\u001b[39m \u001b[33;03m    Predict regression target for X.\u001b[39;00m\n\u001b[32m   1048\u001b[39m \n\u001b[32m   (...)\u001b[39m\u001b[32m   1062\u001b[39m \u001b[33;03m        The predicted values.\u001b[39;00m\n\u001b[32m   1063\u001b[39m \u001b[33;03m    \"\"\"\u001b[39;00m\n\u001b[32m-> \u001b[39m\u001b[32m1064\u001b[39m     \u001b[43mcheck_is_fitted\u001b[49m\u001b[43m(\u001b[49m\u001b[38;5;28;43mself\u001b[39;49m\u001b[43m)\u001b[49m\n\u001b[32m   1065\u001b[39m     \u001b[38;5;66;03m# Check data\u001b[39;00m\n\u001b[32m   1066\u001b[39m     X = \u001b[38;5;28mself\u001b[39m._validate_X_predict(X)\n",
      "\u001b[36mFile \u001b[39m\u001b[32mc:\\Users\\dsour\\data-science-a3\\venv\\Lib\\site-packages\\sklearn\\utils\\validation.py:1757\u001b[39m, in \u001b[36mcheck_is_fitted\u001b[39m\u001b[34m(estimator, attributes, msg, all_or_any)\u001b[39m\n\u001b[32m   1754\u001b[39m     \u001b[38;5;28;01mreturn\u001b[39;00m\n\u001b[32m   1756\u001b[39m \u001b[38;5;28;01mif\u001b[39;00m \u001b[38;5;129;01mnot\u001b[39;00m _is_fitted(estimator, attributes, all_or_any):\n\u001b[32m-> \u001b[39m\u001b[32m1757\u001b[39m     \u001b[38;5;28;01mraise\u001b[39;00m NotFittedError(msg % {\u001b[33m\"\u001b[39m\u001b[33mname\u001b[39m\u001b[33m\"\u001b[39m: \u001b[38;5;28mtype\u001b[39m(estimator).\u001b[34m__name__\u001b[39m})\n",
      "\u001b[31mNotFittedError\u001b[39m: This RandomForestRegressor instance is not fitted yet. Call 'fit' with appropriate arguments before using this estimator."
     ]
    }
   ],
   "source": [
    "rf_base = RandomForestRegressor(n_estimators=15, max_depth=6, random_state=0)\n",
    "clf_base = BaggingRegressor(rf_base, n_estimators=45, max_samples=0.1, random_state=25)\n",
    "clf_base.fit(X_base_train, y_base_train)\n",
    "y_base_pred = clf_base.predict(X_base_test)"
   ]
  },
  {
   "cell_type": "code",
   "execution_count": null,
   "id": "38a2dec9",
   "metadata": {},
   "outputs": [
    {
     "name": "stdout",
     "output_type": "stream",
     "text": [
      "Root Mean Squared Error (RMSE): 0.4895\n"
     ]
    }
   ],
   "source": [
    "rmse = np.sqrt(mean_squared_error(y_test, y_pred))\n",
    "rmse_base = np.sqrt(mean_squared_error(y_base_test, y_base_pred))\n",
    "print(f\"Root Mean Squared Error (RMSE): {rmse:.4f}\")\n",
    "print(f\"Root Mean Squared Error (RMSE): {rmse_base:.4f}\")\n"
   ]
  }
 ],
 "metadata": {
  "kernelspec": {
   "display_name": "venv",
   "language": "python",
   "name": "python3"
  },
  "language_info": {
   "codemirror_mode": {
    "name": "ipython",
    "version": 3
   },
   "file_extension": ".py",
   "mimetype": "text/x-python",
   "name": "python",
   "nbconvert_exporter": "python",
   "pygments_lexer": "ipython3",
   "version": "3.12.10"
  }
 },
 "nbformat": 4,
 "nbformat_minor": 5
}
