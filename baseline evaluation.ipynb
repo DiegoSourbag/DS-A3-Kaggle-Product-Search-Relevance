{
 "cells": [
  {
   "cell_type": "code",
   "execution_count": 33,
   "id": "dcae74f2",
   "metadata": {},
   "outputs": [],
   "source": [
    "import numpy as np\n",
    "import pandas as pd\n",
    "import spacy\n",
    "from sklearn.ensemble import RandomForestRegressor, BaggingRegressor\n",
    "from sklearn.metrics import mean_squared_error\n",
    "from sklearn.model_selection import train_test_split\n",
    "from nltk.stem.snowball import SnowballStemmer\n",
    "from sklearn.feature_extraction.text import TfidfVectorizer\n",
    "from sklearn.metrics.pairwise import cosine_similarity\n",
    "from sklearn.ensemble import GradientBoostingRegressor\n",
    "from sklearn.ensemble import HistGradientBoostingRegressor\n",
    "from sklearn.svm import SVR\n",
    "from sklearn.neighbors import KNeighborsRegressor\n",
    "from sklearn.model_selection import RandomizedSearchCV\n",
    "from sklearn.inspection import permutation_importance\n",
    "import re\n",
    "from fractions import Fraction\n",
    "import time\n"
   ]
  },
  {
   "cell_type": "markdown",
   "id": "ec8c1be9",
   "metadata": {},
   "source": [
    "# Create the dataframes"
   ]
  },
  {
   "cell_type": "code",
   "execution_count": 34,
   "id": "616ef70e",
   "metadata": {},
   "outputs": [],
   "source": [
    "df_train = pd.read_csv('home_depot_data/train.csv', encoding=\"ISO-8859-1\")\n",
    "df_test = pd.read_csv('home_depot_data/test.csv', encoding=\"ISO-8859-1\")\n",
    "df_attr = pd.read_csv('home_depot_data/attributes.csv')\n",
    "df_pro_desc = pd.read_csv('home_depot_data/product_descriptions.csv')"
   ]
  },
  {
   "cell_type": "markdown",
   "id": "15600763",
   "metadata": {},
   "source": [
    "# Add stemmer"
   ]
  },
  {
   "cell_type": "code",
   "execution_count": 35,
   "id": "56870a72",
   "metadata": {},
   "outputs": [],
   "source": [
    "stemmer = SnowballStemmer('english')\n",
    "def str_stemmer(s):\n",
    "\treturn \" \".join([stemmer.stem(word) for word in s.lower().split()])\n",
    "\n",
    "def str_common_word(str1, str2):\n",
    "\treturn sum(int(str2.find(word)>=0) for word in str1.split())"
   ]
  },
  {
   "cell_type": "markdown",
   "id": "064f13f5",
   "metadata": {},
   "source": [
    "# Dataframe processing"
   ]
  },
  {
   "cell_type": "code",
   "execution_count": 36,
   "id": "38fb4b70",
   "metadata": {},
   "outputs": [],
   "source": [
    "df_train_base = df_train.drop(['search_term','product_title'],axis=1)\n",
    "df_train['search_term'] = df_train['search_term'].map(lambda x:str_stemmer(x))\n",
    "df_train['product_title'] = df_train['product_title'].map(lambda x:str_stemmer(x))\n",
    "df_train['len_of_query'] = df_train['search_term'].map(lambda x:len(x.split())).astype(np.int64)\n",
    "df_train['product_info'] = df_train['search_term']+\"\\t\"+df_train['product_title']\n",
    "df_train['word_in_title'] = df_train['product_info'].map(lambda x:str_common_word(x.split('\\t')[0],x.split('\\t')[1]))\n",
    "df_complete=df_train\n",
    "df_train = df_train.drop(['search_term','product_title', 'product_info'],axis=1)"
   ]
  },
  {
   "cell_type": "code",
   "execution_count": 37,
   "id": "d8030299",
   "metadata": {},
   "outputs": [],
   "source": [
    "train, test = train_test_split(df_train, test_size=0.2, random_state=42)\n",
    "base_train, base_test = train_test_split(df_train_base, test_size=0.2, random_state=42)"
   ]
  },
  {
   "cell_type": "markdown",
   "id": "093ffe48",
   "metadata": {},
   "source": [
    "# Define test and training sets"
   ]
  },
  {
   "cell_type": "code",
   "execution_count": 38,
   "id": "908d4b55",
   "metadata": {},
   "outputs": [],
   "source": [
    "id_test = test['id']\n",
    "y_train = train['relevance'].values\n",
    "X_train = train.drop(['id','relevance'],axis=1).values\n",
    "X_test = test.drop(['id','relevance'],axis=1).values\n",
    "y_test = test['relevance'].values"
   ]
  },
  {
   "cell_type": "code",
   "execution_count": 39,
   "id": "60f963f2",
   "metadata": {},
   "outputs": [],
   "source": [
    "rf = RandomForestRegressor(n_estimators=15, max_depth=6, random_state=42)\n",
    "clf = BaggingRegressor(rf, n_estimators=45, max_samples=0.1, random_state=42)\n",
    "clf.fit(X_train, y_train)\n",
    "y_pred = clf.predict(X_test)"
   ]
  },
  {
   "cell_type": "code",
   "execution_count": 40,
   "id": "5dcb0c8b",
   "metadata": {},
   "outputs": [],
   "source": [
    "id_base_test = base_test['id']\n",
    "y_base_train = base_train['relevance'].values\n",
    "X_base_train = base_train.drop(['id','relevance'],axis=1).values\n",
    "X_base_test = base_test.drop(['id','relevance'],axis=1).values\n",
    "y_base_test = base_test['relevance'].values"
   ]
  },
  {
   "cell_type": "code",
   "execution_count": 41,
   "id": "b0f7e8a8",
   "metadata": {},
   "outputs": [],
   "source": [
    "rf_base = RandomForestRegressor(n_estimators=15, max_depth=6, random_state=42)\n",
    "clf_base = BaggingRegressor(rf_base, n_estimators=45, max_samples=0.1, random_state=42)\n",
    "clf_base.fit(X_base_train, y_base_train)\n",
    "y_base_pred = clf_base.predict(X_base_test)"
   ]
  },
  {
   "cell_type": "code",
   "execution_count": 42,
   "id": "38a2dec9",
   "metadata": {},
   "outputs": [
    {
     "name": "stdout",
     "output_type": "stream",
     "text": [
      "Root Mean Squared Error (RMSE): 0.4842\n",
      "Root Mean Squared Error (RMSE): 0.5245\n"
     ]
    }
   ],
   "source": [
    "rmse = np.sqrt(mean_squared_error(y_test, y_pred))\n",
    "rmse_base = np.sqrt(mean_squared_error(y_base_test, y_base_pred))\n",
    "print(f\"Root Mean Squared Error (RMSE): {rmse:.4f}\")\n",
    "print(f\"Root Mean Squared Error (RMSE): {rmse_base:.4f}\")\n"
   ]
  },
  {
   "cell_type": "markdown",
   "id": "5eab1aaf",
   "metadata": {},
   "source": [
    "# Improving the matching"
   ]
  },
  {
   "cell_type": "code",
   "execution_count": 43,
   "id": "4dcd4bc0",
   "metadata": {},
   "outputs": [
    {
     "name": "stdout",
     "output_type": "stream",
     "text": [
      "         attribute_name  count\n",
      "0        MFG Brand Name  86250\n",
      "1              Bullet02  86248\n",
      "2              Bullet03  86226\n",
      "3              Bullet04  86174\n",
      "4              Bullet01  85940\n",
      "5   Product Width (in.)  61137\n",
      "6              Bullet05  60529\n",
      "7  Product Height (in.)  54698\n",
      "8   Product Depth (in.)  53652\n",
      "9  Product Weight (lb.)  45175\n"
     ]
    }
   ],
   "source": [
    "attribute_counts = df_attr['name'].value_counts().reset_index()\n",
    "attribute_counts.columns = ['attribute_name', 'count']\n",
    "\n",
    "print(attribute_counts.head(10))\n"
   ]
  },
  {
   "cell_type": "code",
   "execution_count": 44,
   "id": "1b1c0427",
   "metadata": {},
   "outputs": [
    {
     "name": "stderr",
     "output_type": "stream",
     "text": [
      "/Users/reinierbos/Documents/data-science-a3/venv/lib/python3.12/site-packages/spacy/pipeline/lemmatizer.py:211: UserWarning: [W108] The rule-based lemmatizer did not find POS annotation for one or more tokens. Check that your pipeline includes components that assign token.pos, typically 'tagger'+'attribute_ruler' or 'morphologizer'.\n",
      "  warnings.warn(Warnings.W108)\n"
     ]
    },
    {
     "ename": "KeyboardInterrupt",
     "evalue": "",
     "output_type": "error",
     "traceback": [
      "\u001b[31m---------------------------------------------------------------------------\u001b[39m",
      "\u001b[31mKeyboardInterrupt\u001b[39m                         Traceback (most recent call last)",
      "\u001b[36mCell\u001b[39m\u001b[36m \u001b[39m\u001b[32mIn[44]\u001b[39m\u001b[32m, line 25\u001b[39m\n\u001b[32m     23\u001b[39m text_cols = [\u001b[33m'\u001b[39m\u001b[33msearch_term\u001b[39m\u001b[33m'\u001b[39m, \u001b[33m'\u001b[39m\u001b[33mproduct_title\u001b[39m\u001b[33m'\u001b[39m, \u001b[33m'\u001b[39m\u001b[33mall_bullets\u001b[39m\u001b[33m'\u001b[39m] + [\u001b[33mf\u001b[39m\u001b[33m'\u001b[39m\u001b[38;5;132;01m{\u001b[39;00mattr\u001b[38;5;132;01m}\u001b[39;00m\u001b[33m_value\u001b[39m\u001b[33m'\u001b[39m \u001b[38;5;28;01mfor\u001b[39;00m attr \u001b[38;5;129;01min\u001b[39;00m selected_attrs]\n\u001b[32m     24\u001b[39m unique_texts = pd.Series(df_complete[text_cols].values.ravel()).dropna().unique()\n\u001b[32m---> \u001b[39m\u001b[32m25\u001b[39m text2doc = \u001b[43m{\u001b[49m\u001b[43mtext\u001b[49m\u001b[43m:\u001b[49m\u001b[43m \u001b[49m\u001b[43mdoc\u001b[49m\u001b[43m \u001b[49m\u001b[38;5;28;43;01mfor\u001b[39;49;00m\u001b[43m \u001b[49m\u001b[43mtext\u001b[49m\u001b[43m,\u001b[49m\u001b[43m \u001b[49m\u001b[43mdoc\u001b[49m\u001b[43m \u001b[49m\u001b[38;5;129;43;01min\u001b[39;49;00m\u001b[43m \u001b[49m\u001b[38;5;28;43mzip\u001b[39;49m\u001b[43m(\u001b[49m\u001b[43munique_texts\u001b[49m\u001b[43m,\u001b[49m\u001b[43m \u001b[49m\u001b[43mnlp\u001b[49m\u001b[43m.\u001b[49m\u001b[43mpipe\u001b[49m\u001b[43m(\u001b[49m\u001b[43munique_texts\u001b[49m\u001b[43m,\u001b[49m\u001b[43m \u001b[49m\u001b[43mdisable\u001b[49m\u001b[43m=\u001b[49m\u001b[43m[\u001b[49m\u001b[33;43m\"\u001b[39;49m\u001b[33;43mner\u001b[39;49m\u001b[33;43m\"\u001b[39;49m\u001b[43m,\u001b[49m\u001b[43m \u001b[49m\u001b[33;43m\"\u001b[39;49m\u001b[33;43mtagger\u001b[39;49m\u001b[33;43m\"\u001b[39;49m\u001b[43m,\u001b[49m\u001b[43m \u001b[49m\u001b[33;43m\"\u001b[39;49m\u001b[33;43mparser\u001b[39;49m\u001b[33;43m\"\u001b[39;49m\u001b[43m]\u001b[49m\u001b[43m)\u001b[49m\u001b[43m)\u001b[49m\u001b[43m}\u001b[49m\n\u001b[32m     27\u001b[39m \u001b[38;5;66;03m# Similarity function\u001b[39;00m\n\u001b[32m     28\u001b[39m \u001b[38;5;28;01mdef\u001b[39;00m\u001b[38;5;250m \u001b[39m\u001b[34mget_similarity\u001b[39m(text1, text2):\n",
      "\u001b[36mFile \u001b[39m\u001b[32m~/Documents/data-science-a3/venv/lib/python3.12/site-packages/spacy/language.py:1621\u001b[39m, in \u001b[36mLanguage.pipe\u001b[39m\u001b[34m(self, texts, as_tuples, batch_size, disable, component_cfg, n_process)\u001b[39m\n\u001b[32m   1619\u001b[39m     \u001b[38;5;28;01mfor\u001b[39;00m pipe \u001b[38;5;129;01min\u001b[39;00m pipes:\n\u001b[32m   1620\u001b[39m         docs = pipe(docs)\n\u001b[32m-> \u001b[39m\u001b[32m1621\u001b[39m \u001b[43m\u001b[49m\u001b[38;5;28;43;01mfor\u001b[39;49;00m\u001b[43m \u001b[49m\u001b[43mdoc\u001b[49m\u001b[43m \u001b[49m\u001b[38;5;129;43;01min\u001b[39;49;00m\u001b[43m \u001b[49m\u001b[43mdocs\u001b[49m\u001b[43m:\u001b[49m\n\u001b[32m   1622\u001b[39m \u001b[43m    \u001b[49m\u001b[38;5;28;43;01myield\u001b[39;49;00m\u001b[43m \u001b[49m\u001b[43mdoc\u001b[49m\n",
      "\u001b[36mFile \u001b[39m\u001b[32m~/Documents/data-science-a3/venv/lib/python3.12/site-packages/spacy/util.py:1703\u001b[39m, in \u001b[36m_pipe\u001b[39m\u001b[34m(docs, proc, name, default_error_handler, kwargs)\u001b[39m\n\u001b[32m   1693\u001b[39m \u001b[38;5;28;01mdef\u001b[39;00m\u001b[38;5;250m \u001b[39m\u001b[34m_pipe\u001b[39m(\n\u001b[32m   1694\u001b[39m     docs: Iterable[\u001b[33m\"\u001b[39m\u001b[33mDoc\u001b[39m\u001b[33m\"\u001b[39m],\n\u001b[32m   1695\u001b[39m     proc: \u001b[33m\"\u001b[39m\u001b[33mPipeCallable\u001b[39m\u001b[33m\"\u001b[39m,\n\u001b[32m   (...)\u001b[39m\u001b[32m   1700\u001b[39m     kwargs: Mapping[\u001b[38;5;28mstr\u001b[39m, Any],\n\u001b[32m   1701\u001b[39m ) -> Iterator[\u001b[33m\"\u001b[39m\u001b[33mDoc\u001b[39m\u001b[33m\"\u001b[39m]:\n\u001b[32m   1702\u001b[39m     \u001b[38;5;28;01mif\u001b[39;00m \u001b[38;5;28mhasattr\u001b[39m(proc, \u001b[33m\"\u001b[39m\u001b[33mpipe\u001b[39m\u001b[33m\"\u001b[39m):\n\u001b[32m-> \u001b[39m\u001b[32m1703\u001b[39m         \u001b[38;5;28;01myield from\u001b[39;00m proc.pipe(docs, **kwargs)\n\u001b[32m   1704\u001b[39m     \u001b[38;5;28;01melse\u001b[39;00m:\n\u001b[32m   1705\u001b[39m         \u001b[38;5;66;03m# We added some args for pipe that __call__ doesn't expect.\u001b[39;00m\n\u001b[32m   1706\u001b[39m         kwargs = \u001b[38;5;28mdict\u001b[39m(kwargs)\n",
      "\u001b[36mFile \u001b[39m\u001b[32m~/Documents/data-science-a3/venv/lib/python3.12/site-packages/spacy/pipeline/pipe.pyx:55\u001b[39m, in \u001b[36mpipe\u001b[39m\u001b[34m()\u001b[39m\n",
      "\u001b[36mFile \u001b[39m\u001b[32m~/Documents/data-science-a3/venv/lib/python3.12/site-packages/spacy/util.py:1703\u001b[39m, in \u001b[36m_pipe\u001b[39m\u001b[34m(docs, proc, name, default_error_handler, kwargs)\u001b[39m\n\u001b[32m   1693\u001b[39m \u001b[38;5;28;01mdef\u001b[39;00m\u001b[38;5;250m \u001b[39m\u001b[34m_pipe\u001b[39m(\n\u001b[32m   1694\u001b[39m     docs: Iterable[\u001b[33m\"\u001b[39m\u001b[33mDoc\u001b[39m\u001b[33m\"\u001b[39m],\n\u001b[32m   1695\u001b[39m     proc: \u001b[33m\"\u001b[39m\u001b[33mPipeCallable\u001b[39m\u001b[33m\"\u001b[39m,\n\u001b[32m   (...)\u001b[39m\u001b[32m   1700\u001b[39m     kwargs: Mapping[\u001b[38;5;28mstr\u001b[39m, Any],\n\u001b[32m   1701\u001b[39m ) -> Iterator[\u001b[33m\"\u001b[39m\u001b[33mDoc\u001b[39m\u001b[33m\"\u001b[39m]:\n\u001b[32m   1702\u001b[39m     \u001b[38;5;28;01mif\u001b[39;00m \u001b[38;5;28mhasattr\u001b[39m(proc, \u001b[33m\"\u001b[39m\u001b[33mpipe\u001b[39m\u001b[33m\"\u001b[39m):\n\u001b[32m-> \u001b[39m\u001b[32m1703\u001b[39m         \u001b[38;5;28;01myield from\u001b[39;00m proc.pipe(docs, **kwargs)\n\u001b[32m   1704\u001b[39m     \u001b[38;5;28;01melse\u001b[39;00m:\n\u001b[32m   1705\u001b[39m         \u001b[38;5;66;03m# We added some args for pipe that __call__ doesn't expect.\u001b[39;00m\n\u001b[32m   1706\u001b[39m         kwargs = \u001b[38;5;28mdict\u001b[39m(kwargs)\n",
      "\u001b[36mFile \u001b[39m\u001b[32m~/Documents/data-science-a3/venv/lib/python3.12/site-packages/spacy/pipeline/pipe.pyx:55\u001b[39m, in \u001b[36mpipe\u001b[39m\u001b[34m()\u001b[39m\n",
      "\u001b[36mFile \u001b[39m\u001b[32m~/Documents/data-science-a3/venv/lib/python3.12/site-packages/spacy/util.py:1703\u001b[39m, in \u001b[36m_pipe\u001b[39m\u001b[34m(docs, proc, name, default_error_handler, kwargs)\u001b[39m\n\u001b[32m   1693\u001b[39m \u001b[38;5;28;01mdef\u001b[39;00m\u001b[38;5;250m \u001b[39m\u001b[34m_pipe\u001b[39m(\n\u001b[32m   1694\u001b[39m     docs: Iterable[\u001b[33m\"\u001b[39m\u001b[33mDoc\u001b[39m\u001b[33m\"\u001b[39m],\n\u001b[32m   1695\u001b[39m     proc: \u001b[33m\"\u001b[39m\u001b[33mPipeCallable\u001b[39m\u001b[33m\"\u001b[39m,\n\u001b[32m   (...)\u001b[39m\u001b[32m   1700\u001b[39m     kwargs: Mapping[\u001b[38;5;28mstr\u001b[39m, Any],\n\u001b[32m   1701\u001b[39m ) -> Iterator[\u001b[33m\"\u001b[39m\u001b[33mDoc\u001b[39m\u001b[33m\"\u001b[39m]:\n\u001b[32m   1702\u001b[39m     \u001b[38;5;28;01mif\u001b[39;00m \u001b[38;5;28mhasattr\u001b[39m(proc, \u001b[33m\"\u001b[39m\u001b[33mpipe\u001b[39m\u001b[33m\"\u001b[39m):\n\u001b[32m-> \u001b[39m\u001b[32m1703\u001b[39m         \u001b[38;5;28;01myield from\u001b[39;00m proc.pipe(docs, **kwargs)\n\u001b[32m   1704\u001b[39m     \u001b[38;5;28;01melse\u001b[39;00m:\n\u001b[32m   1705\u001b[39m         \u001b[38;5;66;03m# We added some args for pipe that __call__ doesn't expect.\u001b[39;00m\n\u001b[32m   1706\u001b[39m         kwargs = \u001b[38;5;28mdict\u001b[39m(kwargs)\n",
      "\u001b[36mFile \u001b[39m\u001b[32m~/Documents/data-science-a3/venv/lib/python3.12/site-packages/spacy/pipeline/trainable_pipe.pyx:75\u001b[39m, in \u001b[36mpipe\u001b[39m\u001b[34m()\u001b[39m\n",
      "\u001b[36mFile \u001b[39m\u001b[32m~/Documents/data-science-a3/venv/lib/python3.12/site-packages/spacy/pipeline/tok2vec.py:126\u001b[39m, in \u001b[36mTok2Vec.predict\u001b[39m\u001b[34m(self, docs)\u001b[39m\n\u001b[32m    124\u001b[39m     width = \u001b[38;5;28mself\u001b[39m.model.get_dim(\u001b[33m\"\u001b[39m\u001b[33mnO\u001b[39m\u001b[33m\"\u001b[39m)\n\u001b[32m    125\u001b[39m     \u001b[38;5;28;01mreturn\u001b[39;00m [\u001b[38;5;28mself\u001b[39m.model.ops.alloc((\u001b[32m0\u001b[39m, width)) \u001b[38;5;28;01mfor\u001b[39;00m doc \u001b[38;5;129;01min\u001b[39;00m docs]\n\u001b[32m--> \u001b[39m\u001b[32m126\u001b[39m tokvecs = \u001b[38;5;28;43mself\u001b[39;49m\u001b[43m.\u001b[49m\u001b[43mmodel\u001b[49m\u001b[43m.\u001b[49m\u001b[43mpredict\u001b[49m\u001b[43m(\u001b[49m\u001b[43mdocs\u001b[49m\u001b[43m)\u001b[49m\n\u001b[32m    127\u001b[39m \u001b[38;5;28;01mreturn\u001b[39;00m tokvecs\n",
      "\u001b[36mFile \u001b[39m\u001b[32m~/Documents/data-science-a3/venv/lib/python3.12/site-packages/thinc/model.py:334\u001b[39m, in \u001b[36mModel.predict\u001b[39m\u001b[34m(self, X)\u001b[39m\n\u001b[32m    330\u001b[39m \u001b[38;5;28;01mdef\u001b[39;00m\u001b[38;5;250m \u001b[39m\u001b[34mpredict\u001b[39m(\u001b[38;5;28mself\u001b[39m, X: InT) -> OutT:\n\u001b[32m    331\u001b[39m \u001b[38;5;250m    \u001b[39m\u001b[33;03m\"\"\"Call the model's `forward` function with `is_train=False`, and return\u001b[39;00m\n\u001b[32m    332\u001b[39m \u001b[33;03m    only the output, instead of the `(output, callback)` tuple.\u001b[39;00m\n\u001b[32m    333\u001b[39m \u001b[33;03m    \"\"\"\u001b[39;00m\n\u001b[32m--> \u001b[39m\u001b[32m334\u001b[39m     \u001b[38;5;28;01mreturn\u001b[39;00m \u001b[38;5;28;43mself\u001b[39;49m\u001b[43m.\u001b[49m\u001b[43m_func\u001b[49m\u001b[43m(\u001b[49m\u001b[38;5;28;43mself\u001b[39;49m\u001b[43m,\u001b[49m\u001b[43m \u001b[49m\u001b[43mX\u001b[49m\u001b[43m,\u001b[49m\u001b[43m \u001b[49m\u001b[43mis_train\u001b[49m\u001b[43m=\u001b[49m\u001b[38;5;28;43;01mFalse\u001b[39;49;00m\u001b[43m)\u001b[49m[\u001b[32m0\u001b[39m]\n",
      "\u001b[36mFile \u001b[39m\u001b[32m~/Documents/data-science-a3/venv/lib/python3.12/site-packages/thinc/layers/chain.py:54\u001b[39m, in \u001b[36mforward\u001b[39m\u001b[34m(model, X, is_train)\u001b[39m\n\u001b[32m     52\u001b[39m callbacks = []\n\u001b[32m     53\u001b[39m \u001b[38;5;28;01mfor\u001b[39;00m layer \u001b[38;5;129;01min\u001b[39;00m model.layers:\n\u001b[32m---> \u001b[39m\u001b[32m54\u001b[39m     Y, inc_layer_grad = \u001b[43mlayer\u001b[49m\u001b[43m(\u001b[49m\u001b[43mX\u001b[49m\u001b[43m,\u001b[49m\u001b[43m \u001b[49m\u001b[43mis_train\u001b[49m\u001b[43m=\u001b[49m\u001b[43mis_train\u001b[49m\u001b[43m)\u001b[49m\n\u001b[32m     55\u001b[39m     callbacks.append(inc_layer_grad)\n\u001b[32m     56\u001b[39m     X = Y\n",
      "\u001b[36mFile \u001b[39m\u001b[32m~/Documents/data-science-a3/venv/lib/python3.12/site-packages/thinc/model.py:310\u001b[39m, in \u001b[36mModel.__call__\u001b[39m\u001b[34m(self, X, is_train)\u001b[39m\n\u001b[32m    307\u001b[39m \u001b[38;5;28;01mdef\u001b[39;00m\u001b[38;5;250m \u001b[39m\u001b[34m__call__\u001b[39m(\u001b[38;5;28mself\u001b[39m, X: InT, is_train: \u001b[38;5;28mbool\u001b[39m) -> Tuple[OutT, Callable]:\n\u001b[32m    308\u001b[39m \u001b[38;5;250m    \u001b[39m\u001b[33;03m\"\"\"Call the model's `forward` function, returning the output and a\u001b[39;00m\n\u001b[32m    309\u001b[39m \u001b[33;03m    callback to compute the gradients via backpropagation.\"\"\"\u001b[39;00m\n\u001b[32m--> \u001b[39m\u001b[32m310\u001b[39m     \u001b[38;5;28;01mreturn\u001b[39;00m \u001b[38;5;28;43mself\u001b[39;49m\u001b[43m.\u001b[49m\u001b[43m_func\u001b[49m\u001b[43m(\u001b[49m\u001b[38;5;28;43mself\u001b[39;49m\u001b[43m,\u001b[49m\u001b[43m \u001b[49m\u001b[43mX\u001b[49m\u001b[43m,\u001b[49m\u001b[43m \u001b[49m\u001b[43mis_train\u001b[49m\u001b[43m=\u001b[49m\u001b[43mis_train\u001b[49m\u001b[43m)\u001b[49m\n",
      "\u001b[36mFile \u001b[39m\u001b[32m~/Documents/data-science-a3/venv/lib/python3.12/site-packages/thinc/layers/with_array.py:42\u001b[39m, in \u001b[36mforward\u001b[39m\u001b[34m(model, Xseq, is_train)\u001b[39m\n\u001b[32m     40\u001b[39m     \u001b[38;5;28;01mreturn\u001b[39;00m model.layers[\u001b[32m0\u001b[39m](Xseq, is_train)\n\u001b[32m     41\u001b[39m \u001b[38;5;28;01melse\u001b[39;00m:\n\u001b[32m---> \u001b[39m\u001b[32m42\u001b[39m     \u001b[38;5;28;01mreturn\u001b[39;00m cast(Tuple[SeqT, Callable], \u001b[43m_list_forward\u001b[49m\u001b[43m(\u001b[49m\u001b[43mmodel\u001b[49m\u001b[43m,\u001b[49m\u001b[43m \u001b[49m\u001b[43mXseq\u001b[49m\u001b[43m,\u001b[49m\u001b[43m \u001b[49m\u001b[43mis_train\u001b[49m\u001b[43m)\u001b[49m)\n",
      "\u001b[36mFile \u001b[39m\u001b[32m~/Documents/data-science-a3/venv/lib/python3.12/site-packages/thinc/layers/with_array.py:77\u001b[39m, in \u001b[36m_list_forward\u001b[39m\u001b[34m(model, Xs, is_train)\u001b[39m\n\u001b[32m     75\u001b[39m lengths = NUMPY_OPS.asarray1i([\u001b[38;5;28mlen\u001b[39m(seq) \u001b[38;5;28;01mfor\u001b[39;00m seq \u001b[38;5;129;01min\u001b[39;00m Xs])\n\u001b[32m     76\u001b[39m Xf = layer.ops.flatten(Xs, pad=pad)\n\u001b[32m---> \u001b[39m\u001b[32m77\u001b[39m Yf, get_dXf = \u001b[43mlayer\u001b[49m\u001b[43m(\u001b[49m\u001b[43mXf\u001b[49m\u001b[43m,\u001b[49m\u001b[43m \u001b[49m\u001b[43mis_train\u001b[49m\u001b[43m)\u001b[49m\n\u001b[32m     79\u001b[39m \u001b[38;5;28;01mdef\u001b[39;00m\u001b[38;5;250m \u001b[39m\u001b[34mbackprop\u001b[39m(dYs: ListXd) -> ListXd:\n\u001b[32m     80\u001b[39m     dYf = layer.ops.flatten(dYs, pad=pad)\n",
      "\u001b[36mFile \u001b[39m\u001b[32m~/Documents/data-science-a3/venv/lib/python3.12/site-packages/thinc/model.py:310\u001b[39m, in \u001b[36mModel.__call__\u001b[39m\u001b[34m(self, X, is_train)\u001b[39m\n\u001b[32m    307\u001b[39m \u001b[38;5;28;01mdef\u001b[39;00m\u001b[38;5;250m \u001b[39m\u001b[34m__call__\u001b[39m(\u001b[38;5;28mself\u001b[39m, X: InT, is_train: \u001b[38;5;28mbool\u001b[39m) -> Tuple[OutT, Callable]:\n\u001b[32m    308\u001b[39m \u001b[38;5;250m    \u001b[39m\u001b[33;03m\"\"\"Call the model's `forward` function, returning the output and a\u001b[39;00m\n\u001b[32m    309\u001b[39m \u001b[33;03m    callback to compute the gradients via backpropagation.\"\"\"\u001b[39;00m\n\u001b[32m--> \u001b[39m\u001b[32m310\u001b[39m     \u001b[38;5;28;01mreturn\u001b[39;00m \u001b[38;5;28;43mself\u001b[39;49m\u001b[43m.\u001b[49m\u001b[43m_func\u001b[49m\u001b[43m(\u001b[49m\u001b[38;5;28;43mself\u001b[39;49m\u001b[43m,\u001b[49m\u001b[43m \u001b[49m\u001b[43mX\u001b[49m\u001b[43m,\u001b[49m\u001b[43m \u001b[49m\u001b[43mis_train\u001b[49m\u001b[43m=\u001b[49m\u001b[43mis_train\u001b[49m\u001b[43m)\u001b[49m\n",
      "\u001b[36mFile \u001b[39m\u001b[32m~/Documents/data-science-a3/venv/lib/python3.12/site-packages/thinc/layers/chain.py:54\u001b[39m, in \u001b[36mforward\u001b[39m\u001b[34m(model, X, is_train)\u001b[39m\n\u001b[32m     52\u001b[39m callbacks = []\n\u001b[32m     53\u001b[39m \u001b[38;5;28;01mfor\u001b[39;00m layer \u001b[38;5;129;01min\u001b[39;00m model.layers:\n\u001b[32m---> \u001b[39m\u001b[32m54\u001b[39m     Y, inc_layer_grad = \u001b[43mlayer\u001b[49m\u001b[43m(\u001b[49m\u001b[43mX\u001b[49m\u001b[43m,\u001b[49m\u001b[43m \u001b[49m\u001b[43mis_train\u001b[49m\u001b[43m=\u001b[49m\u001b[43mis_train\u001b[49m\u001b[43m)\u001b[49m\n\u001b[32m     55\u001b[39m     callbacks.append(inc_layer_grad)\n\u001b[32m     56\u001b[39m     X = Y\n",
      "\u001b[36mFile \u001b[39m\u001b[32m~/Documents/data-science-a3/venv/lib/python3.12/site-packages/thinc/model.py:310\u001b[39m, in \u001b[36mModel.__call__\u001b[39m\u001b[34m(self, X, is_train)\u001b[39m\n\u001b[32m    307\u001b[39m \u001b[38;5;28;01mdef\u001b[39;00m\u001b[38;5;250m \u001b[39m\u001b[34m__call__\u001b[39m(\u001b[38;5;28mself\u001b[39m, X: InT, is_train: \u001b[38;5;28mbool\u001b[39m) -> Tuple[OutT, Callable]:\n\u001b[32m    308\u001b[39m \u001b[38;5;250m    \u001b[39m\u001b[33;03m\"\"\"Call the model's `forward` function, returning the output and a\u001b[39;00m\n\u001b[32m    309\u001b[39m \u001b[33;03m    callback to compute the gradients via backpropagation.\"\"\"\u001b[39;00m\n\u001b[32m--> \u001b[39m\u001b[32m310\u001b[39m     \u001b[38;5;28;01mreturn\u001b[39;00m \u001b[38;5;28;43mself\u001b[39;49m\u001b[43m.\u001b[49m\u001b[43m_func\u001b[49m\u001b[43m(\u001b[49m\u001b[38;5;28;43mself\u001b[39;49m\u001b[43m,\u001b[49m\u001b[43m \u001b[49m\u001b[43mX\u001b[49m\u001b[43m,\u001b[49m\u001b[43m \u001b[49m\u001b[43mis_train\u001b[49m\u001b[43m=\u001b[49m\u001b[43mis_train\u001b[49m\u001b[43m)\u001b[49m\n",
      "\u001b[36mFile \u001b[39m\u001b[32m~/Documents/data-science-a3/venv/lib/python3.12/site-packages/thinc/layers/residual.py:41\u001b[39m, in \u001b[36mforward\u001b[39m\u001b[34m(model, X, is_train)\u001b[39m\n\u001b[32m     38\u001b[39m     \u001b[38;5;28;01melse\u001b[39;00m:\n\u001b[32m     39\u001b[39m         \u001b[38;5;28;01mreturn\u001b[39;00m d_output + dX\n\u001b[32m---> \u001b[39m\u001b[32m41\u001b[39m Y, backprop_layer = \u001b[43mmodel\u001b[49m\u001b[43m.\u001b[49m\u001b[43mlayers\u001b[49m\u001b[43m[\u001b[49m\u001b[32;43m0\u001b[39;49m\u001b[43m]\u001b[49m\u001b[43m(\u001b[49m\u001b[43mX\u001b[49m\u001b[43m,\u001b[49m\u001b[43m \u001b[49m\u001b[43mis_train\u001b[49m\u001b[43m)\u001b[49m\n\u001b[32m     42\u001b[39m \u001b[38;5;28;01mif\u001b[39;00m \u001b[38;5;28misinstance\u001b[39m(X, \u001b[38;5;28mlist\u001b[39m):\n\u001b[32m     43\u001b[39m     \u001b[38;5;28;01mreturn\u001b[39;00m [X[i] + Y[i] \u001b[38;5;28;01mfor\u001b[39;00m i \u001b[38;5;129;01min\u001b[39;00m \u001b[38;5;28mrange\u001b[39m(\u001b[38;5;28mlen\u001b[39m(X))], backprop\n",
      "\u001b[36mFile \u001b[39m\u001b[32m~/Documents/data-science-a3/venv/lib/python3.12/site-packages/thinc/model.py:310\u001b[39m, in \u001b[36mModel.__call__\u001b[39m\u001b[34m(self, X, is_train)\u001b[39m\n\u001b[32m    307\u001b[39m \u001b[38;5;28;01mdef\u001b[39;00m\u001b[38;5;250m \u001b[39m\u001b[34m__call__\u001b[39m(\u001b[38;5;28mself\u001b[39m, X: InT, is_train: \u001b[38;5;28mbool\u001b[39m) -> Tuple[OutT, Callable]:\n\u001b[32m    308\u001b[39m \u001b[38;5;250m    \u001b[39m\u001b[33;03m\"\"\"Call the model's `forward` function, returning the output and a\u001b[39;00m\n\u001b[32m    309\u001b[39m \u001b[33;03m    callback to compute the gradients via backpropagation.\"\"\"\u001b[39;00m\n\u001b[32m--> \u001b[39m\u001b[32m310\u001b[39m     \u001b[38;5;28;01mreturn\u001b[39;00m \u001b[38;5;28;43mself\u001b[39;49m\u001b[43m.\u001b[49m\u001b[43m_func\u001b[49m\u001b[43m(\u001b[49m\u001b[38;5;28;43mself\u001b[39;49m\u001b[43m,\u001b[49m\u001b[43m \u001b[49m\u001b[43mX\u001b[49m\u001b[43m,\u001b[49m\u001b[43m \u001b[49m\u001b[43mis_train\u001b[49m\u001b[43m=\u001b[49m\u001b[43mis_train\u001b[49m\u001b[43m)\u001b[49m\n",
      "\u001b[36mFile \u001b[39m\u001b[32m~/Documents/data-science-a3/venv/lib/python3.12/site-packages/thinc/layers/chain.py:54\u001b[39m, in \u001b[36mforward\u001b[39m\u001b[34m(model, X, is_train)\u001b[39m\n\u001b[32m     52\u001b[39m callbacks = []\n\u001b[32m     53\u001b[39m \u001b[38;5;28;01mfor\u001b[39;00m layer \u001b[38;5;129;01min\u001b[39;00m model.layers:\n\u001b[32m---> \u001b[39m\u001b[32m54\u001b[39m     Y, inc_layer_grad = \u001b[43mlayer\u001b[49m\u001b[43m(\u001b[49m\u001b[43mX\u001b[49m\u001b[43m,\u001b[49m\u001b[43m \u001b[49m\u001b[43mis_train\u001b[49m\u001b[43m=\u001b[49m\u001b[43mis_train\u001b[49m\u001b[43m)\u001b[49m\n\u001b[32m     55\u001b[39m     callbacks.append(inc_layer_grad)\n\u001b[32m     56\u001b[39m     X = Y\n",
      "\u001b[36mFile \u001b[39m\u001b[32m~/Documents/data-science-a3/venv/lib/python3.12/site-packages/thinc/model.py:310\u001b[39m, in \u001b[36mModel.__call__\u001b[39m\u001b[34m(self, X, is_train)\u001b[39m\n\u001b[32m    307\u001b[39m \u001b[38;5;28;01mdef\u001b[39;00m\u001b[38;5;250m \u001b[39m\u001b[34m__call__\u001b[39m(\u001b[38;5;28mself\u001b[39m, X: InT, is_train: \u001b[38;5;28mbool\u001b[39m) -> Tuple[OutT, Callable]:\n\u001b[32m    308\u001b[39m \u001b[38;5;250m    \u001b[39m\u001b[33;03m\"\"\"Call the model's `forward` function, returning the output and a\u001b[39;00m\n\u001b[32m    309\u001b[39m \u001b[33;03m    callback to compute the gradients via backpropagation.\"\"\"\u001b[39;00m\n\u001b[32m--> \u001b[39m\u001b[32m310\u001b[39m     \u001b[38;5;28;01mreturn\u001b[39;00m \u001b[38;5;28;43mself\u001b[39;49m\u001b[43m.\u001b[49m\u001b[43m_func\u001b[49m\u001b[43m(\u001b[49m\u001b[38;5;28;43mself\u001b[39;49m\u001b[43m,\u001b[49m\u001b[43m \u001b[49m\u001b[43mX\u001b[49m\u001b[43m,\u001b[49m\u001b[43m \u001b[49m\u001b[43mis_train\u001b[49m\u001b[43m=\u001b[49m\u001b[43mis_train\u001b[49m\u001b[43m)\u001b[49m\n",
      "\u001b[36mFile \u001b[39m\u001b[32m~/Documents/data-science-a3/venv/lib/python3.12/site-packages/thinc/layers/chain.py:54\u001b[39m, in \u001b[36mforward\u001b[39m\u001b[34m(model, X, is_train)\u001b[39m\n\u001b[32m     52\u001b[39m callbacks = []\n\u001b[32m     53\u001b[39m \u001b[38;5;28;01mfor\u001b[39;00m layer \u001b[38;5;129;01min\u001b[39;00m model.layers:\n\u001b[32m---> \u001b[39m\u001b[32m54\u001b[39m     Y, inc_layer_grad = \u001b[43mlayer\u001b[49m\u001b[43m(\u001b[49m\u001b[43mX\u001b[49m\u001b[43m,\u001b[49m\u001b[43m \u001b[49m\u001b[43mis_train\u001b[49m\u001b[43m=\u001b[49m\u001b[43mis_train\u001b[49m\u001b[43m)\u001b[49m\n\u001b[32m     55\u001b[39m     callbacks.append(inc_layer_grad)\n\u001b[32m     56\u001b[39m     X = Y\n",
      "    \u001b[31m[... skipping similar frames: Model.__call__ at line 310 (1 times)]\u001b[39m\n",
      "\u001b[36mFile \u001b[39m\u001b[32m~/Documents/data-science-a3/venv/lib/python3.12/site-packages/thinc/layers/chain.py:54\u001b[39m, in \u001b[36mforward\u001b[39m\u001b[34m(model, X, is_train)\u001b[39m\n\u001b[32m     52\u001b[39m callbacks = []\n\u001b[32m     53\u001b[39m \u001b[38;5;28;01mfor\u001b[39;00m layer \u001b[38;5;129;01min\u001b[39;00m model.layers:\n\u001b[32m---> \u001b[39m\u001b[32m54\u001b[39m     Y, inc_layer_grad = \u001b[43mlayer\u001b[49m\u001b[43m(\u001b[49m\u001b[43mX\u001b[49m\u001b[43m,\u001b[49m\u001b[43m \u001b[49m\u001b[43mis_train\u001b[49m\u001b[43m=\u001b[49m\u001b[43mis_train\u001b[49m\u001b[43m)\u001b[49m\n\u001b[32m     55\u001b[39m     callbacks.append(inc_layer_grad)\n\u001b[32m     56\u001b[39m     X = Y\n",
      "\u001b[36mFile \u001b[39m\u001b[32m~/Documents/data-science-a3/venv/lib/python3.12/site-packages/thinc/model.py:310\u001b[39m, in \u001b[36mModel.__call__\u001b[39m\u001b[34m(self, X, is_train)\u001b[39m\n\u001b[32m    307\u001b[39m \u001b[38;5;28;01mdef\u001b[39;00m\u001b[38;5;250m \u001b[39m\u001b[34m__call__\u001b[39m(\u001b[38;5;28mself\u001b[39m, X: InT, is_train: \u001b[38;5;28mbool\u001b[39m) -> Tuple[OutT, Callable]:\n\u001b[32m    308\u001b[39m \u001b[38;5;250m    \u001b[39m\u001b[33;03m\"\"\"Call the model's `forward` function, returning the output and a\u001b[39;00m\n\u001b[32m    309\u001b[39m \u001b[33;03m    callback to compute the gradients via backpropagation.\"\"\"\u001b[39;00m\n\u001b[32m--> \u001b[39m\u001b[32m310\u001b[39m     \u001b[38;5;28;01mreturn\u001b[39;00m \u001b[38;5;28;43mself\u001b[39;49m\u001b[43m.\u001b[49m\u001b[43m_func\u001b[49m\u001b[43m(\u001b[49m\u001b[38;5;28;43mself\u001b[39;49m\u001b[43m,\u001b[49m\u001b[43m \u001b[49m\u001b[43mX\u001b[49m\u001b[43m,\u001b[49m\u001b[43m \u001b[49m\u001b[43mis_train\u001b[49m\u001b[43m=\u001b[49m\u001b[43mis_train\u001b[49m\u001b[43m)\u001b[49m\n",
      "\u001b[36mFile \u001b[39m\u001b[32m~/Documents/data-science-a3/venv/lib/python3.12/site-packages/thinc/layers/maxout.py:52\u001b[39m, in \u001b[36mforward\u001b[39m\u001b[34m(model, X, is_train)\u001b[39m\n\u001b[32m     50\u001b[39m W = model.get_param(\u001b[33m\"\u001b[39m\u001b[33mW\u001b[39m\u001b[33m\"\u001b[39m)\n\u001b[32m     51\u001b[39m W = model.ops.reshape2f(W, nO * nP, nI)\n\u001b[32m---> \u001b[39m\u001b[32m52\u001b[39m Y = \u001b[43mmodel\u001b[49m\u001b[43m.\u001b[49m\u001b[43mops\u001b[49m\u001b[43m.\u001b[49m\u001b[43mgemm\u001b[49m\u001b[43m(\u001b[49m\u001b[43mX\u001b[49m\u001b[43m,\u001b[49m\u001b[43m \u001b[49m\u001b[43mW\u001b[49m\u001b[43m,\u001b[49m\u001b[43m \u001b[49m\u001b[43mtrans2\u001b[49m\u001b[43m=\u001b[49m\u001b[38;5;28;43;01mTrue\u001b[39;49;00m\u001b[43m)\u001b[49m\n\u001b[32m     53\u001b[39m Y += model.ops.reshape1f(b, nO * nP)\n\u001b[32m     54\u001b[39m Z = model.ops.reshape3f(Y, Y.shape[\u001b[32m0\u001b[39m], nO, nP)\n",
      "\u001b[31mKeyboardInterrupt\u001b[39m: "
     ]
    }
   ],
   "source": [
    "nlp = spacy.load(\"en_core_web_md\")\n",
    "\n",
    "# Preprocessing\n",
    "df_attr['name'] = df_attr['name'].fillna('').str.lower()\n",
    "df_attr['value'] = df_attr['value'].astype(str).str.lower()\n",
    "\n",
    "# Combine bullet attributes\n",
    "df_bullets = df_attr[df_attr['name'].str.startswith(\"bullet\")].copy()\n",
    "bullet_texts = df_bullets.groupby('product_uid')['value'].apply(lambda x: ' '.join(x)).reset_index()\n",
    "bullet_texts = bullet_texts.rename(columns={'value': 'all_bullets'})\n",
    "df_complete = df_complete.merge(bullet_texts, on='product_uid', how='left')\n",
    "\n",
    "# Selected attributes\n",
    "selected_attrs = ['mfg brand name', 'material', 'color/finish', 'certifications and listings', 'all_bullets', 'product_title']\n",
    "\n",
    "# Add selected attributes to df_complete\n",
    "for attr_name in selected_attrs:\n",
    "    attr_subset = df_attr[df_attr['name'] == attr_name].drop_duplicates('product_uid')\n",
    "    attr_subset = attr_subset.rename(columns={'value': f'{attr_name}_value'})\n",
    "    df_complete = df_complete.merge(attr_subset[['product_uid', f'{attr_name}_value']], on='product_uid', how='left')\n",
    "\n",
    "# Prepare texts for spaCy processing\n",
    "text_cols = ['search_term', 'product_title', 'all_bullets'] + [f'{attr}_value' for attr in selected_attrs]\n",
    "unique_texts = pd.Series(df_complete[text_cols].values.ravel()).dropna().unique()\n",
    "text2doc = {text: doc for text, doc in zip(unique_texts, nlp.pipe(unique_texts, disable=[\"ner\", \"tagger\", \"parser\"]))}\n",
    "\n",
    "# Similarity function\n",
    "def get_similarity(text1, text2):\n",
    "    if pd.isna(text1) or pd.isna(text2):\n",
    "        return 0.0\n",
    "    doc1 = text2doc.get(text1)\n",
    "    doc2 = text2doc.get(text2)\n",
    "    if doc1 is None or doc2 is None or doc1.vector_norm == 0 or doc2.vector_norm == 0:\n",
    "        return 0.0\n",
    "    return doc1.similarity(doc2)\n",
    "\n",
    "# Compute similarities\n",
    "for attr_name in selected_attrs:\n",
    "    print(f\"Processing: {attr_name}\")\n",
    "    attr_col = attr_name if attr_name in ['all_bullets', 'product_title'] else f'{attr_name}_value'\n",
    "    sim_col = f'spacy_sim_{attr_name}'\n",
    "\n",
    "    df_complete[sim_col] = df_complete.apply(\n",
    "        lambda row: get_similarity(row['search_term'], row[attr_col]), axis=1\n",
    "    )"
   ]
  },
  {
   "cell_type": "code",
   "execution_count": null,
   "id": "78051b81",
   "metadata": {},
   "outputs": [],
   "source": [
    "df_complete['brand_match'] = df_complete.apply(\n",
    "    lambda row: int(str(row['search_term']).lower() in str(row.get('mfg brand name_value', '')).lower()), axis=1\n",
    ")\n",
    "\n",
    "def normalized_word_overlap(query, text):\n",
    "    q_words = set(query.split())\n",
    "    t_words = set(text.split())\n",
    "    if not q_words: return 0\n",
    "    return len(q_words & t_words) / len(q_words)\n",
    "\n",
    "df_complete['norm_overlap_title'] = df_complete.apply(\n",
    "    lambda row: normalized_word_overlap(row['search_term'], row['product_title']), axis=1\n",
    ")\n",
    "\n",
    "df_complete['length_diff'] = abs(\n",
    "    df_complete['search_term'].map(lambda x: len(x.split())) - \n",
    "    df_complete['product_title'].map(lambda x: len(x.split()))\n",
    ")"
   ]
  },
  {
   "cell_type": "code",
   "execution_count": null,
   "id": "8a8065b1",
   "metadata": {},
   "outputs": [],
   "source": [
    "def compute_tfidf_cosine(df, col_text, new_feature_name):\n",
    "    corpus = pd.concat([df['search_term'], df[col_text]]).astype(str)\n",
    "    vectorizer = TfidfVectorizer()\n",
    "    vectorizer.fit(corpus)\n",
    "\n",
    "    tfidf_query = vectorizer.transform(df['search_term'].astype(str))\n",
    "    tfidf_col = vectorizer.transform(df[col_text].astype(str))\n",
    "\n",
    "    df[new_feature_name] = [\n",
    "        cosine_similarity(tfidf_query[i], tfidf_col[i])[0][0]\n",
    "        for i in range(len(df))\n",
    "    ]\n",
    "    \n",
    "    return df\n"
   ]
  },
  {
   "cell_type": "code",
   "execution_count": null,
   "id": "0d47645f",
   "metadata": {},
   "outputs": [],
   "source": [
    "df_complete = df_complete.merge(df_pro_desc, on='product_uid', how='left')\n",
    "df_complete['product_description'] = df_complete['product_description'].fillna(\"\")\n",
    "df_complete['all_bullets'] = df_complete['all_bullets'].fillna(\"\")\n",
    "\n",
    "df_complete = compute_tfidf_cosine(df_complete, 'product_title', 'cosine_title')\n",
    "df_complete = compute_tfidf_cosine(df_complete, 'product_description', 'cosine_description')\n",
    "df_complete = compute_tfidf_cosine(df_complete, 'all_bullets', 'cosine_bullets')\n"
   ]
  },
  {
   "cell_type": "markdown",
   "id": "19937192",
   "metadata": {},
   "source": [
    "# Adding numeric features"
   ]
  },
  {
   "cell_type": "code",
   "execution_count": null,
   "id": "55dd2e63",
   "metadata": {},
   "outputs": [
    {
     "name": "stdout",
     "output_type": "stream",
     "text": [
      "Processing: assembled height (in.)\n",
      "Processing: assembled width (in.)\n",
      "Processing: assembled depth (in.)\n",
      "Processing: product length (in.)\n",
      "Processing: product width (in.)\n",
      "Processing: product height (in.)\n",
      "Processing: product depth (in.)\n",
      "Processing: product weight (lb.)\n"
     ]
    }
   ],
   "source": [
    "num_attrs = [\n",
    "    'assembled height (in.)',\n",
    "    'assembled width (in.)',\n",
    "    'assembled depth (in.)',\n",
    "    'product length (in.)',\n",
    "    'product width (in.)',\n",
    "    'product height (in.)',\n",
    "    'product depth (in.)',\n",
    "    'product weight (lb.)'\n",
    "]\n",
    "\n",
    "for attr_name in num_attrs:\n",
    "    print(f\"Processing: {attr_name}\")\n",
    "    \n",
    "    attr_subset = df_attr[df_attr['name'] == attr_name].drop_duplicates('product_uid')\n",
    "    \n",
    "    if attr_subset.empty:\n",
    "        print(f\"⚠️ Attribute '{attr_name}' not found. Skipping.\")\n",
    "        continue\n",
    "    \n",
    "    col_name = f'{attr_name}_value'\n",
    "    if col_name in df_complete.columns:\n",
    "        df_complete.drop(columns=[col_name], inplace=True)\n",
    "\n",
    "    attr_subset = attr_subset.rename(columns={'value': col_name})\n",
    "    df_complete = df_complete.merge(attr_subset[['product_uid', col_name]], on='product_uid', how='left')\n"
   ]
  },
  {
   "cell_type": "code",
   "execution_count": null,
   "id": "76cea873",
   "metadata": {},
   "outputs": [],
   "source": [
    "def extract_numeric(val):\n",
    "    if pd.isna(val):\n",
    "        return None\n",
    "    val = str(val).lower().strip()\n",
    "    \n",
    "    if '-' in val:\n",
    "        parts = val.split('-')\n",
    "        try:\n",
    "            return float(parts[0]) + float(Fraction(parts[1]))\n",
    "        except:\n",
    "            pass\n",
    "\n",
    "    try:\n",
    "        return float(Fraction(val))\n",
    "    except:\n",
    "        pass\n",
    "\n",
    "    match = re.search(r'(\\d+(\\.\\d+)?)', val)\n",
    "    if match:\n",
    "        return float(match.group(1))\n",
    "\n",
    "    return None"
   ]
  },
  {
   "cell_type": "code",
   "execution_count": null,
   "id": "5f81c946",
   "metadata": {},
   "outputs": [],
   "source": [
    "for attr in num_attrs:\n",
    "    col = f\"{attr}_value\"\n",
    "    num_col = f\"{attr}_num\"\n",
    "    df_complete[num_col] = df_complete[col].apply(extract_numeric)"
   ]
  },
  {
   "cell_type": "markdown",
   "id": "58897159",
   "metadata": {},
   "source": [
    "# Setting up the model"
   ]
  },
  {
   "cell_type": "code",
   "execution_count": null,
   "id": "dec3bcc3",
   "metadata": {},
   "outputs": [
    {
     "name": "stdout",
     "output_type": "stream",
     "text": [
      "RMSE with improved features: 0.4831\n",
      "Baseline RMSE: 0.4842\n"
     ]
    }
   ],
   "source": [
    "spacy_features = [col for col in df_complete.columns if col.startswith('spacy_sim_')]\n",
    "numeric_attr_features = [f\"{attr}_num\" for attr in num_attrs]\n",
    "\n",
    "improved = df_complete[\n",
    "    ['id', 'relevance', 'cosine_title', \"cosine_description\", \"cosine_bullets\", 'len_of_query',\n",
    "     'word_in_title', \"brand_match\", \"norm_overlap_title\", \"length_diff\"]\n",
    "    + spacy_features\n",
    "]\n",
    "\n",
    "improved_num = df_complete[\n",
    "    ['id', 'relevance', 'cosine_title', \"cosine_description\", \"cosine_bullets\", 'len_of_query',\n",
    "     'word_in_title', \"brand_match\", \"norm_overlap_title\", \"length_diff\"]\n",
    "    + spacy_features\n",
    "    + numeric_attr_features\n",
    "]\n",
    "\n",
    "train_idx = train.index\n",
    "test_idx = test.index\n",
    "\n",
    "X_improved_train = improved.loc[train_idx].drop(['id', 'relevance'], axis=1)\n",
    "X_improved_test = improved.loc[test_idx].drop(['id', 'relevance'], axis=1)\n",
    "y_improved_train = improved.loc[train_idx]['relevance'].values\n",
    "y_improved_test = improved.loc[test_idx]['relevance'].values\n",
    "\n",
    "X_improved_train_num = improved_num.loc[train_idx].drop(['id', 'relevance'], axis=1)\n",
    "X_improved_test_num = improved_num.loc[test_idx].drop(['id', 'relevance'], axis=1)\n",
    "y_improved_train_num = improved_num.loc[train_idx]['relevance'].values\n",
    "y_improved_test_num = improved_num.loc[test_idx]['relevance'].values\n",
    "\n",
    "rf_improved = RandomForestRegressor(n_estimators=15, max_depth=6, random_state=42)\n",
    "clf_improved = BaggingRegressor(rf_improved, n_estimators=45, max_samples=0.1, random_state=42)\n",
    "clf_improved.fit(X_improved_train, y_improved_train)\n",
    "\n",
    "y_improved_pred = clf_improved.predict(X_improved_test)\n",
    "rmse_improved = np.sqrt(mean_squared_error(y_improved_test, y_improved_pred))\n",
    "\n",
    "print(f\"RMSE with improved features: {rmse_improved:.4f}\")\n",
    "print(f\"Baseline RMSE: {rmse:.4f}\")\n"
   ]
  },
  {
   "cell_type": "markdown",
   "id": "8f76728c",
   "metadata": {},
   "source": [
    "# Regression Models"
   ]
  },
  {
   "cell_type": "code",
   "execution_count": null,
   "id": "c506d787",
   "metadata": {},
   "outputs": [
    {
     "name": "stdout",
     "output_type": "stream",
     "text": [
      "RandomForest + Bagging    | RMSE: 0.4831 | Time: 6.26s\n",
      "Gradient Boosting         | RMSE: 0.4784 | Time: 11.55s\n",
      "HistGradientBoosting      | RMSE: 0.4788 | Time: 0.33s\n",
      "SVR                       | RMSE: 0.4931 | Time: 43.94s\n",
      "KNN                       | RMSE: 0.5211 | Time: 0.17s\n"
     ]
    }
   ],
   "source": [
    "models = {\n",
    "    \"RandomForest + Bagging\": clf_improved,\n",
    "    \"Gradient Boosting\": GradientBoostingRegressor(n_estimators=100, max_depth=4, random_state=42),\n",
    "    \"HistGradientBoosting\": HistGradientBoostingRegressor(max_iter=100, max_depth=4, random_state=42),    \n",
    "    \"SVR\": SVR(C=1.0, epsilon=0.2),\n",
    "    \"KNN\": KNeighborsRegressor(n_neighbors=5)\n",
    "}\n",
    "\n",
    "results = {}\n",
    "\n",
    "for name, model in models.items():\n",
    "    start = time.time()\n",
    "    model.fit(X_improved_train, y_improved_train)\n",
    "    preds = model.predict(X_improved_test)\n",
    "    rmse = np.sqrt(mean_squared_error(y_improved_test, preds))\n",
    "    duration = time.time() - start\n",
    "    results[name] = (rmse, duration)\n",
    "\n",
    "for name, (rmse, time_taken) in results.items():\n",
    "    print(f\"{name:<25} | RMSE: {rmse:.4f} | Time: {time_taken:.2f}s\")"
   ]
  },
  {
   "cell_type": "markdown",
   "id": "08c9eeb7",
   "metadata": {},
   "source": [
    "# Hyperparameter optimization - Gradient Boosting"
   ]
  },
  {
   "cell_type": "code",
   "execution_count": 29,
   "id": "ba1ad2ac",
   "metadata": {},
   "outputs": [
    {
     "name": "stdout",
     "output_type": "stream",
     "text": [
      "Fitting 5 folds for each of 60 candidates, totalling 300 fits\n",
      "Best Gradient Boosting RMSE after tuning: 0.4764\n",
      "Best Parameters: {'subsample': 0.6, 'n_estimators': 200, 'min_samples_split': 10, 'min_samples_leaf': 4, 'max_depth': 6, 'learning_rate': 0.05}\n"
     ]
    }
   ],
   "source": [
    "param_distributions = {\n",
    "    'n_estimators': [50, 100, 150, 200],\n",
    "    'learning_rate': [0.01, 0.05, 0.1, 0.2],\n",
    "    'max_depth': [3, 4, 5, 6],\n",
    "    'subsample': [0.6, 0.8, 1.0],\n",
    "    'min_samples_split': [2, 5, 10],\n",
    "    'min_samples_leaf': [1, 2, 4]\n",
    "}\n",
    "\n",
    "gbr = GradientBoostingRegressor(random_state=42)\n",
    "\n",
    "random_search = RandomizedSearchCV(\n",
    "    estimator=gbr,\n",
    "    param_distributions=param_distributions,\n",
    "    n_iter=60, \n",
    "    scoring='neg_root_mean_squared_error',\n",
    "    cv=5,\n",
    "    verbose=1,\n",
    "    random_state=42,\n",
    "    n_jobs=-1\n",
    ")\n",
    "\n",
    "random_search.fit(X_improved_train, y_improved_train)\n",
    "\n",
    "best_model = random_search.best_estimator_\n",
    "y_best_pred = best_model.predict(X_improved_test)\n",
    "rmse_best = np.sqrt(mean_squared_error(y_improved_test, y_best_pred))\n",
    "\n",
    "print(f\"Best Gradient Boosting RMSE after tuning: {rmse_best:.4f}\")\n",
    "print(\"Best Parameters:\", random_search.best_params_)\n"
   ]
  },
  {
   "cell_type": "markdown",
   "id": "b50407da",
   "metadata": {},
   "source": [
    "# Model with numeric features"
   ]
  },
  {
   "cell_type": "code",
   "execution_count": 31,
   "id": "9cb7eec8",
   "metadata": {},
   "outputs": [
    {
     "name": "stdout",
     "output_type": "stream",
     "text": [
      "Fitting 5 folds for each of 60 candidates, totalling 300 fits\n",
      "Best HistGradientBoosting RMSE after tuning: 0.4721\n",
      "Best Parameters: {'min_samples_leaf': 30, 'max_iter': 300, 'max_depth': None, 'max_bins': 255, 'learning_rate': 0.1, 'l2_regularization': 0.0, 'early_stopping': False}\n"
     ]
    }
   ],
   "source": [
    "# HistGradientBoosting because of NaN values\n",
    "\n",
    "param_distributions = {\n",
    "    'learning_rate': [0.01, 0.05, 0.1, 0.2],\n",
    "    'max_iter': [100, 200, 300],\n",
    "    'max_depth': [None, 3, 5, 7],\n",
    "    'min_samples_leaf': [10, 20, 30],\n",
    "    'l2_regularization': [0.0, 0.1, 0.5, 1.0],\n",
    "    'max_bins': [128, 255], \n",
    "    'early_stopping': [True, False]\n",
    "}\n",
    "\n",
    "hgb = HistGradientBoostingRegressor(random_state=42)\n",
    "\n",
    "random_search = RandomizedSearchCV(\n",
    "    estimator=hgb,\n",
    "    param_distributions=param_distributions,\n",
    "    n_iter=60,\n",
    "    scoring='neg_root_mean_squared_error',\n",
    "    cv=5,\n",
    "    verbose=1,\n",
    "    random_state=42,\n",
    "    n_jobs=-1\n",
    ")\n",
    "random_search.fit(X_improved_train_num, y_improved_train_num)\n",
    "\n",
    "best_model = random_search.best_estimator_\n",
    "y_best_pred = best_model.predict(X_improved_test_num)\n",
    "rmse_best = np.sqrt(mean_squared_error(y_improved_test_num, y_best_pred))\n",
    "\n",
    "print(f\"Best HistGradientBoosting RMSE after tuning: {rmse_best:.4f}\")\n",
    "print(\"Best Parameters:\", random_search.best_params_)"
   ]
  },
  {
   "cell_type": "markdown",
   "id": "a44a6faf",
   "metadata": {},
   "source": [
    "# Feature importance"
   ]
  },
  {
   "cell_type": "code",
   "execution_count": null,
   "id": "3b951ead",
   "metadata": {},
   "outputs": [
    {
     "name": "stdout",
     "output_type": "stream",
     "text": [
      "Top 5 most important features:\n",
      "              feature  importance_mean  importance_std\n",
      "6  norm_overlap_title         0.020290        0.000694\n",
      "3        len_of_query         0.019772        0.000665\n",
      "4       word_in_title         0.018924        0.000882\n",
      "0        cosine_title         0.016355        0.000760\n",
      "1  cosine_description         0.009452        0.000594\n"
     ]
    }
   ],
   "source": [
    "# Compute permutation importance\n",
    "result = permutation_importance(\n",
    "    estimator=best_model,\n",
    "    X=X_improved_test_num,\n",
    "    y=y_improved_test_num,\n",
    "    n_repeats=10,\n",
    "    random_state=42,\n",
    "    scoring='neg_root_mean_squared_error'\n",
    ")\n",
    "\n",
    "# Convert to DataFrame\n",
    "importances_df = pd.DataFrame({\n",
    "    'feature': X_improved_test_num.columns,\n",
    "    'importance_mean': result.importances_mean,\n",
    "    'importance_std': result.importances_std\n",
    "}).sort_values(by='importance_mean', ascending=False)\n",
    "\n",
    "# Show top 5\n",
    "print(\"Top 5 most important features:\")\n",
    "print(importances_df.head(5))\n"
   ]
  },
  {
   "cell_type": "markdown",
   "id": "9714697a",
   "metadata": {},
   "source": [
    "# Compare feature sets"
   ]
  },
  {
   "cell_type": "code",
   "execution_count": null,
   "id": "1fa96e0d",
   "metadata": {},
   "outputs": [
    {
     "name": "stderr",
     "output_type": "stream",
     "text": [
      "/Users/reinierbos/Documents/data-science-a3/venv/lib/python3.12/site-packages/sklearn/experimental/enable_hist_gradient_boosting.py:19: UserWarning: Since version 1.0, it is not needed to import enable_hist_gradient_boosting anymore. HistGradientBoostingClassifier and HistGradientBoostingRegressor are now stable and can be normally imported from sklearn.ensemble.\n",
      "  warnings.warn(\n"
     ]
    },
    {
     "name": "stdout",
     "output_type": "stream",
     "text": [
      "SpaCy: RMSE = 0.5169\n",
      "Cosine: RMSE = 0.4958\n",
      "General: RMSE = 0.4886\n",
      "Numeric: RMSE = 0.5188\n",
      "All: RMSE = 0.4747\n"
     ]
    },
    {
     "data": {
      "image/png": "[encoded data removed]",
      "text/plain": [
       "<Figure size 800x400 with 1 Axes>"
      ]
     },
     "metadata": {},
     "output_type": "display_data"
    }
   ],
   "source": [
    "from sklearn.experimental import enable_hist_gradient_boosting  # noqa\n",
    "from sklearn.ensemble import HistGradientBoostingRegressor\n",
    "from sklearn.metrics import mean_squared_error\n",
    "import matplotlib.pyplot as plt\n",
    "import numpy as np\n",
    "\n",
    "# --- Define your feature groups ---\n",
    "spacy_features = [col for col in df_complete.columns if col.startswith('spacy_sim_')]\n",
    "cosine_features = ['cosine_title', 'cosine_description', 'cosine_bullets']\n",
    "general_features = ['norm_overlap_title', 'word_in_title', 'brand_match', 'length_diff']\n",
    "numeric_features = [f\"{attr}_num\" for attr in num_attrs] + ['len_of_query']\n",
    "\n",
    "feature_sets = {\n",
    "    \"SpaCy\": spacy_features,\n",
    "    \"Cosine\": cosine_features,\n",
    "    \"General\": general_features,\n",
    "    \"Numeric\": numeric_features,\n",
    "    \"All\": spacy_features + cosine_features + general_features + numeric_features\n",
    "}\n",
    "\n",
    "# --- Reuse train/test indices and target ---\n",
    "train_idx = train.index\n",
    "test_idx = test.index\n",
    "y = df_complete['relevance']\n",
    "results = {}\n",
    "\n",
    "# --- Define training/evaluation function ---\n",
    "def train_and_evaluate(X_train, y_train, X_test, y_test, label):\n",
    "    model = HistGradientBoostingRegressor(max_iter=300, learning_rate=0.1, max_depth=6, random_state=42)\n",
    "    model.fit(X_train.fillna(0), y_train)\n",
    "    preds = model.predict(X_test.fillna(0))\n",
    "    rmse = np.sqrt(mean_squared_error(y_test, preds))\n",
    "    results[label] = rmse\n",
    "    print(f\"{label}: RMSE = {rmse:.4f}\")\n",
    "    return model, preds\n",
    "\n",
    "# --- Evaluate each feature set ---\n",
    "for label, features in feature_sets.items():\n",
    "    if not all(f in df_complete.columns for f in features):\n",
    "        print(f\"Skipping {label} (missing columns)\")\n",
    "        continue\n",
    "\n",
    "    X_train = df_complete.loc[train_idx, features]\n",
    "    y_train = y.loc[train_idx].values\n",
    "    X_test = df_complete.loc[test_idx, features]\n",
    "    y_test = y.loc[test_idx].values\n",
    "\n",
    "    train_and_evaluate(X_train, y_train, X_test, y_test, label)\n",
    "\n",
    "# --- Visualize results ---\n",
    "plt.figure(figsize=(8, 4))\n",
    "plt.bar(results.keys(), results.values(), color='skyblue')\n",
    "plt.ylabel(\"RMSE (lower is better)\")\n",
    "plt.title(\"HistGradientBoostingRegressor Feature Set Comparison\")\n",
    "plt.xticks(rotation=15)\n",
    "plt.tight_layout()\n",
    "plt.show()\n"
   ]
  }
 ],
 "metadata": {
  "kernelspec": {
   "display_name": "venv",
   "language": "python",
   "name": "python3"
  },
  "language_info": {
   "codemirror_mode": {
    "name": "ipython",
    "version": 3
   },
   "file_extension": ".py",
   "mimetype": "text/x-python",
   "name": "python",
   "nbconvert_exporter": "python",
   "pygments_lexer": "ipython3",
   "version": "3.12.2"
  }
 },
 "nbformat": 4,
 "nbformat_minor": 5
}
