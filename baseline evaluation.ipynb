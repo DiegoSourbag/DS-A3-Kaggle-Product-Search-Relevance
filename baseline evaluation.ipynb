{
 "cells": [
  {
   "cell_type": "code",
   "execution_count": null,
   "id": "dcae74f2",
   "metadata": {},
   "outputs": [],
   "source": [
    "import numpy as np\n",
    "import pandas as pd\n",
    "from sklearn.ensemble import RandomForestRegressor, BaggingRegressor\n",
    "from sklearn.metrics import mean_squared_error\n",
    "from sklearn.model_selection import train_test_split\n",
    "from nltk.stem.snowball import SnowballStemmer"
   ]
  },
  {
   "cell_type": "markdown",
   "id": "ec8c1be9",
   "metadata": {},
   "source": [
    "# Create the dataframes"
   ]
  },
  {
   "cell_type": "code",
   "execution_count": 54,
   "id": "616ef70e",
   "metadata": {},
   "outputs": [],
   "source": [
    "df_train = pd.read_csv('home_depot_data/train.csv', encoding=\"ISO-8859-1\")\n",
    "df_test = pd.read_csv('home_depot_data/test.csv', encoding=\"ISO-8859-1\")\n",
    "df_attr = pd.read_csv('home_depot_data/attributes.csv')\n",
    "df_pro_desc = pd.read_csv('home_depot_data/product_descriptions.csv')"
   ]
  },
  {
   "cell_type": "markdown",
   "id": "15600763",
   "metadata": {},
   "source": [
    "# Add stemmer"
   ]
  },
  {
   "cell_type": "code",
   "execution_count": 55,
   "id": "56870a72",
   "metadata": {},
   "outputs": [],
   "source": [
    "stemmer = SnowballStemmer('english')\n",
    "def str_stemmer(s):\n",
    "\treturn \" \".join([stemmer.stem(word) for word in s.lower().split()])\n",
    "\n",
    "def str_common_word(str1, str2):\n",
    "\treturn sum(int(str2.find(word)>=0) for word in str1.split())"
   ]
  },
  {
   "cell_type": "markdown",
   "id": "064f13f5",
   "metadata": {},
   "source": [
    "# Dataframe processing"
   ]
  },
  {
   "cell_type": "code",
   "execution_count": 56,
   "id": "38fb4b70",
   "metadata": {},
   "outputs": [],
   "source": [
    "df_train['search_term'] = df_train['search_term'].map(lambda x:str_stemmer(x))\n",
    "df_train['product_title'] = df_train['product_title'].map(lambda x:str_stemmer(x))\n",
    "df_train['len_of_query'] = df_train['search_term'].map(lambda x:len(x.split())).astype(np.int64)\n",
    "df_train['product_info'] = df_train['search_term']+\"\\t\"+df_train['product_title']\n",
    "df_train['word_in_title'] = df_train['product_info'].map(lambda x:str_common_word(x.split('\\t')[0],x.split('\\t')[1]))\n",
    "df_train = df_train.drop(['search_term','product_title', 'product_info'],axis=1)"
   ]
  },
  {
   "cell_type": "code",
   "execution_count": 57,
   "id": "b30cafb8",
   "metadata": {},
   "outputs": [
    {
     "data": {
      "text/html": [
       "<div>\n",
       "<style scoped>\n",
       "    .dataframe tbody tr th:only-of-type {\n",
       "        vertical-align: middle;\n",
       "    }\n",
       "\n",
       "    .dataframe tbody tr th {\n",
       "        vertical-align: top;\n",
       "    }\n",
       "\n",
       "    .dataframe thead th {\n",
       "        text-align: right;\n",
       "    }\n",
       "</style>\n",
       "<table border=\"1\" class=\"dataframe\">\n",
       "  <thead>\n",
       "    <tr style=\"text-align: right;\">\n",
       "      <th></th>\n",
       "      <th>id</th>\n",
       "      <th>product_uid</th>\n",
       "      <th>relevance</th>\n",
       "      <th>len_of_query</th>\n",
       "      <th>word_in_title</th>\n",
       "    </tr>\n",
       "  </thead>\n",
       "  <tbody>\n",
       "    <tr>\n",
       "      <th>0</th>\n",
       "      <td>2</td>\n",
       "      <td>100001</td>\n",
       "      <td>3.00</td>\n",
       "      <td>2</td>\n",
       "      <td>1</td>\n",
       "    </tr>\n",
       "    <tr>\n",
       "      <th>1</th>\n",
       "      <td>3</td>\n",
       "      <td>100001</td>\n",
       "      <td>2.50</td>\n",
       "      <td>2</td>\n",
       "      <td>1</td>\n",
       "    </tr>\n",
       "    <tr>\n",
       "      <th>2</th>\n",
       "      <td>9</td>\n",
       "      <td>100002</td>\n",
       "      <td>3.00</td>\n",
       "      <td>2</td>\n",
       "      <td>1</td>\n",
       "    </tr>\n",
       "    <tr>\n",
       "      <th>3</th>\n",
       "      <td>16</td>\n",
       "      <td>100005</td>\n",
       "      <td>2.33</td>\n",
       "      <td>3</td>\n",
       "      <td>1</td>\n",
       "    </tr>\n",
       "    <tr>\n",
       "      <th>4</th>\n",
       "      <td>17</td>\n",
       "      <td>100005</td>\n",
       "      <td>2.67</td>\n",
       "      <td>3</td>\n",
       "      <td>3</td>\n",
       "    </tr>\n",
       "    <tr>\n",
       "      <th>...</th>\n",
       "      <td>...</td>\n",
       "      <td>...</td>\n",
       "      <td>...</td>\n",
       "      <td>...</td>\n",
       "      <td>...</td>\n",
       "    </tr>\n",
       "    <tr>\n",
       "      <th>74062</th>\n",
       "      <td>221457</td>\n",
       "      <td>206638</td>\n",
       "      <td>1.00</td>\n",
       "      <td>3</td>\n",
       "      <td>1</td>\n",
       "    </tr>\n",
       "    <tr>\n",
       "      <th>74063</th>\n",
       "      <td>221458</td>\n",
       "      <td>206639</td>\n",
       "      <td>3.00</td>\n",
       "      <td>3</td>\n",
       "      <td>3</td>\n",
       "    </tr>\n",
       "    <tr>\n",
       "      <th>74064</th>\n",
       "      <td>221463</td>\n",
       "      <td>206641</td>\n",
       "      <td>2.33</td>\n",
       "      <td>7</td>\n",
       "      <td>2</td>\n",
       "    </tr>\n",
       "    <tr>\n",
       "      <th>74065</th>\n",
       "      <td>221471</td>\n",
       "      <td>206648</td>\n",
       "      <td>3.00</td>\n",
       "      <td>3</td>\n",
       "      <td>2</td>\n",
       "    </tr>\n",
       "    <tr>\n",
       "      <th>74066</th>\n",
       "      <td>221473</td>\n",
       "      <td>206650</td>\n",
       "      <td>2.33</td>\n",
       "      <td>5</td>\n",
       "      <td>3</td>\n",
       "    </tr>\n",
       "  </tbody>\n",
       "</table>\n",
       "<p>74067 rows × 5 columns</p>\n",
       "</div>"
      ],
      "text/plain": [
       "           id  product_uid  relevance  len_of_query  word_in_title\n",
       "0           2       100001       3.00             2              1\n",
       "1           3       100001       2.50             2              1\n",
       "2           9       100002       3.00             2              1\n",
       "3          16       100005       2.33             3              1\n",
       "4          17       100005       2.67             3              3\n",
       "...       ...          ...        ...           ...            ...\n",
       "74062  221457       206638       1.00             3              1\n",
       "74063  221458       206639       3.00             3              3\n",
       "74064  221463       206641       2.33             7              2\n",
       "74065  221471       206648       3.00             3              2\n",
       "74066  221473       206650       2.33             5              3\n",
       "\n",
       "[74067 rows x 5 columns]"
      ]
     },
     "execution_count": 57,
     "metadata": {},
     "output_type": "execute_result"
    }
   ],
   "source": [
    "df_train"
   ]
  },
  {
   "cell_type": "code",
   "execution_count": 58,
   "id": "d8030299",
   "metadata": {},
   "outputs": [],
   "source": [
    "train, test = train_test_split(df_train, test_size=0.2, random_state=23)"
   ]
  },
  {
   "cell_type": "markdown",
   "id": "093ffe48",
   "metadata": {},
   "source": [
    "# Define test and training sets"
   ]
  },
  {
   "cell_type": "code",
   "execution_count": 59,
   "id": "908d4b55",
   "metadata": {},
   "outputs": [],
   "source": [
    "id_test = test['id']\n",
    "\n",
    "y_train = train['relevance'].values\n",
    "X_train = train.drop(['id','relevance'],axis=1).values\n",
    "X_test = test.drop(['id','relevance'],axis=1).values\n",
    "y_test = test['relevance'].values"
   ]
  },
  {
   "cell_type": "code",
   "execution_count": 60,
   "id": "60f963f2",
   "metadata": {},
   "outputs": [],
   "source": [
    "rf = RandomForestRegressor(n_estimators=15, max_depth=6, random_state=0)\n",
    "clf = BaggingRegressor(rf, n_estimators=45, max_samples=0.1, random_state=25)\n",
    "clf.fit(X_train, y_train)\n",
    "y_pred = clf.predict(X_test)"
   ]
  },
  {
   "cell_type": "code",
   "execution_count": 11,
   "id": "38a2dec9",
   "metadata": {},
   "outputs": [],
   "source": [
    "pd.DataFrame({\"id\": id_test, \"relevance\": y_pred}).to_csv('submission.csv',index=False)"
   ]
  }
 ],
 "metadata": {
  "kernelspec": {
   "display_name": "venv",
   "language": "python",
   "name": "python3"
  },
  "language_info": {
   "codemirror_mode": {
    "name": "ipython",
    "version": 3
   },
   "file_extension": ".py",
   "mimetype": "text/x-python",
   "name": "python",
   "nbconvert_exporter": "python",
   "pygments_lexer": "ipython3",
   "version": "3.12.10"
  }
 },
 "nbformat": 4,
 "nbformat_minor": 5
}
