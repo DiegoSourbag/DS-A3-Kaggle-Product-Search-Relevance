{
 "cells": [
  {
   "cell_type": "code",
   "execution_count": 43,
   "id": "a5f277bf",
   "metadata": {},
   "outputs": [],
   "source": [
    "import pandas as pd\n",
    "import matplotlib.pyplot as plt\n",
    "import seaborn as sns"
   ]
  },
  {
   "cell_type": "code",
   "execution_count": 3,
   "id": "5550af52",
   "metadata": {},
   "outputs": [],
   "source": [
    "df_train = pd.read_csv('home_depot_data/train.csv', encoding=\"ISO-8859-1\")\n",
    "df_test = pd.read_csv('home_depot_data/test.csv', encoding=\"ISO-8859-1\")\n",
    "df_attr = pd.read_csv('home_depot_data/attributes.csv')\n",
    "df_pro_desc = pd.read_csv('home_depot_data/product_descriptions.csv')\n"
   ]
  },
  {
   "cell_type": "code",
   "execution_count": 4,
   "id": "8a595730",
   "metadata": {},
   "outputs": [
    {
     "data": {
      "text/html": [
       "<div>\n",
       "<style scoped>\n",
       "    .dataframe tbody tr th:only-of-type {\n",
       "        vertical-align: middle;\n",
       "    }\n",
       "\n",
       "    .dataframe tbody tr th {\n",
       "        vertical-align: top;\n",
       "    }\n",
       "\n",
       "    .dataframe thead th {\n",
       "        text-align: right;\n",
       "    }\n",
       "</style>\n",
       "<table border=\"1\" class=\"dataframe\">\n",
       "  <thead>\n",
       "    <tr style=\"text-align: right;\">\n",
       "      <th></th>\n",
       "      <th>id</th>\n",
       "      <th>product_uid</th>\n",
       "      <th>product_title</th>\n",
       "      <th>search_term</th>\n",
       "      <th>relevance</th>\n",
       "    </tr>\n",
       "  </thead>\n",
       "  <tbody>\n",
       "    <tr>\n",
       "      <th>0</th>\n",
       "      <td>2</td>\n",
       "      <td>100001</td>\n",
       "      <td>Simpson Strong-Tie 12-Gauge Angle</td>\n",
       "      <td>angle bracket</td>\n",
       "      <td>3.00</td>\n",
       "    </tr>\n",
       "    <tr>\n",
       "      <th>1</th>\n",
       "      <td>3</td>\n",
       "      <td>100001</td>\n",
       "      <td>Simpson Strong-Tie 12-Gauge Angle</td>\n",
       "      <td>l bracket</td>\n",
       "      <td>2.50</td>\n",
       "    </tr>\n",
       "    <tr>\n",
       "      <th>2</th>\n",
       "      <td>9</td>\n",
       "      <td>100002</td>\n",
       "      <td>BEHR Premium Textured DeckOver 1-gal. #SC-141 ...</td>\n",
       "      <td>deck over</td>\n",
       "      <td>3.00</td>\n",
       "    </tr>\n",
       "    <tr>\n",
       "      <th>3</th>\n",
       "      <td>16</td>\n",
       "      <td>100005</td>\n",
       "      <td>Delta Vero 1-Handle Shower Only Faucet Trim Ki...</td>\n",
       "      <td>rain shower head</td>\n",
       "      <td>2.33</td>\n",
       "    </tr>\n",
       "    <tr>\n",
       "      <th>4</th>\n",
       "      <td>17</td>\n",
       "      <td>100005</td>\n",
       "      <td>Delta Vero 1-Handle Shower Only Faucet Trim Ki...</td>\n",
       "      <td>shower only faucet</td>\n",
       "      <td>2.67</td>\n",
       "    </tr>\n",
       "    <tr>\n",
       "      <th>...</th>\n",
       "      <td>...</td>\n",
       "      <td>...</td>\n",
       "      <td>...</td>\n",
       "      <td>...</td>\n",
       "      <td>...</td>\n",
       "    </tr>\n",
       "    <tr>\n",
       "      <th>74062</th>\n",
       "      <td>221457</td>\n",
       "      <td>206638</td>\n",
       "      <td>Atlantic Windowpane 576 CD or 192 DVD Blu-Ray ...</td>\n",
       "      <td>tv riser glass</td>\n",
       "      <td>1.00</td>\n",
       "    </tr>\n",
       "    <tr>\n",
       "      <th>74063</th>\n",
       "      <td>221458</td>\n",
       "      <td>206639</td>\n",
       "      <td>Philips 40-Watt Halogen R20 Flood Light Bulb (...</td>\n",
       "      <td>r20 halogen light</td>\n",
       "      <td>3.00</td>\n",
       "    </tr>\n",
       "    <tr>\n",
       "      <th>74064</th>\n",
       "      <td>221463</td>\n",
       "      <td>206641</td>\n",
       "      <td>Schlage Camelot In-Active Aged Bronze Handlese...</td>\n",
       "      <td>schlage lock siena half dummy knob with</td>\n",
       "      <td>2.33</td>\n",
       "    </tr>\n",
       "    <tr>\n",
       "      <th>74065</th>\n",
       "      <td>221471</td>\n",
       "      <td>206648</td>\n",
       "      <td>Plastec 11 in. x 24 in. Rose Garden Wall Decor...</td>\n",
       "      <td>zen garden  decor</td>\n",
       "      <td>3.00</td>\n",
       "    </tr>\n",
       "    <tr>\n",
       "      <th>74066</th>\n",
       "      <td>221473</td>\n",
       "      <td>206650</td>\n",
       "      <td>LICHTENBERG Pool Blue No. 918 Millennial Ryan ...</td>\n",
       "      <td>fine sheer curtain 63 inches</td>\n",
       "      <td>2.33</td>\n",
       "    </tr>\n",
       "  </tbody>\n",
       "</table>\n",
       "<p>74067 rows × 5 columns</p>\n",
       "</div>"
      ],
      "text/plain": [
       "           id  product_uid                                      product_title  \\\n",
       "0           2       100001                  Simpson Strong-Tie 12-Gauge Angle   \n",
       "1           3       100001                  Simpson Strong-Tie 12-Gauge Angle   \n",
       "2           9       100002  BEHR Premium Textured DeckOver 1-gal. #SC-141 ...   \n",
       "3          16       100005  Delta Vero 1-Handle Shower Only Faucet Trim Ki...   \n",
       "4          17       100005  Delta Vero 1-Handle Shower Only Faucet Trim Ki...   \n",
       "...       ...          ...                                                ...   \n",
       "74062  221457       206638  Atlantic Windowpane 576 CD or 192 DVD Blu-Ray ...   \n",
       "74063  221458       206639  Philips 40-Watt Halogen R20 Flood Light Bulb (...   \n",
       "74064  221463       206641  Schlage Camelot In-Active Aged Bronze Handlese...   \n",
       "74065  221471       206648  Plastec 11 in. x 24 in. Rose Garden Wall Decor...   \n",
       "74066  221473       206650  LICHTENBERG Pool Blue No. 918 Millennial Ryan ...   \n",
       "\n",
       "                                   search_term  relevance  \n",
       "0                                angle bracket       3.00  \n",
       "1                                    l bracket       2.50  \n",
       "2                                    deck over       3.00  \n",
       "3                             rain shower head       2.33  \n",
       "4                           shower only faucet       2.67  \n",
       "...                                        ...        ...  \n",
       "74062                           tv riser glass       1.00  \n",
       "74063                        r20 halogen light       3.00  \n",
       "74064  schlage lock siena half dummy knob with       2.33  \n",
       "74065                        zen garden  decor       3.00  \n",
       "74066             fine sheer curtain 63 inches       2.33  \n",
       "\n",
       "[74067 rows x 5 columns]"
      ]
     },
     "execution_count": 4,
     "metadata": {},
     "output_type": "execute_result"
    }
   ],
   "source": [
    "df_train"
   ]
  },
  {
   "cell_type": "markdown",
   "id": "246c1bee",
   "metadata": {},
   "source": [
    "What is the total number of product-query pairs in the training data? "
   ]
  },
  {
   "cell_type": "code",
   "execution_count": 8,
   "id": "8e3a3dd8",
   "metadata": {},
   "outputs": [
    {
     "data": {
      "text/plain": [
       "74067"
      ]
     },
     "execution_count": 8,
     "metadata": {},
     "output_type": "execute_result"
    }
   ],
   "source": [
    "df_train.shape[0]"
   ]
  },
  {
   "cell_type": "markdown",
   "id": "9cb129e1",
   "metadata": {},
   "source": [
    "What is the number of unique products in the training data?"
   ]
  },
  {
   "cell_type": "code",
   "execution_count": 16,
   "id": "e778a8ac",
   "metadata": {},
   "outputs": [
    {
     "data": {
      "text/plain": [
       "54667"
      ]
     },
     "execution_count": 16,
     "metadata": {},
     "output_type": "execute_result"
    }
   ],
   "source": [
    "unique_products = df_train['product_uid'].unique()\n",
    "len(unique_products)"
   ]
  },
  {
   "cell_type": "markdown",
   "id": "f9b10fb7",
   "metadata": {},
   "source": [
    "What are the two most occurring products in the training data and how often do they occur? "
   ]
  },
  {
   "cell_type": "code",
   "execution_count": 35,
   "id": "52ada35d",
   "metadata": {},
   "outputs": [
    {
     "data": {
      "text/html": [
       "<div>\n",
       "<style scoped>\n",
       "    .dataframe tbody tr th:only-of-type {\n",
       "        vertical-align: middle;\n",
       "    }\n",
       "\n",
       "    .dataframe tbody tr th {\n",
       "        vertical-align: top;\n",
       "    }\n",
       "\n",
       "    .dataframe thead th {\n",
       "        text-align: right;\n",
       "    }\n",
       "</style>\n",
       "<table border=\"1\" class=\"dataframe\">\n",
       "  <thead>\n",
       "    <tr style=\"text-align: right;\">\n",
       "      <th></th>\n",
       "      <th>id</th>\n",
       "    </tr>\n",
       "    <tr>\n",
       "      <th>product_uid</th>\n",
       "      <th></th>\n",
       "    </tr>\n",
       "  </thead>\n",
       "  <tbody>\n",
       "    <tr>\n",
       "      <th>101959</th>\n",
       "      <td>21</td>\n",
       "    </tr>\n",
       "    <tr>\n",
       "      <th>102893</th>\n",
       "      <td>21</td>\n",
       "    </tr>\n",
       "    <tr>\n",
       "      <th>101892</th>\n",
       "      <td>18</td>\n",
       "    </tr>\n",
       "    <tr>\n",
       "      <th>101539</th>\n",
       "      <td>17</td>\n",
       "    </tr>\n",
       "    <tr>\n",
       "      <th>104691</th>\n",
       "      <td>17</td>\n",
       "    </tr>\n",
       "    <tr>\n",
       "      <th>...</th>\n",
       "      <td>...</td>\n",
       "    </tr>\n",
       "    <tr>\n",
       "      <th>206638</th>\n",
       "      <td>1</td>\n",
       "    </tr>\n",
       "    <tr>\n",
       "      <th>206639</th>\n",
       "      <td>1</td>\n",
       "    </tr>\n",
       "    <tr>\n",
       "      <th>206641</th>\n",
       "      <td>1</td>\n",
       "    </tr>\n",
       "    <tr>\n",
       "      <th>206648</th>\n",
       "      <td>1</td>\n",
       "    </tr>\n",
       "    <tr>\n",
       "      <th>190139</th>\n",
       "      <td>1</td>\n",
       "    </tr>\n",
       "  </tbody>\n",
       "</table>\n",
       "<p>54667 rows × 1 columns</p>\n",
       "</div>"
      ],
      "text/plain": [
       "             id\n",
       "product_uid    \n",
       "101959       21\n",
       "102893       21\n",
       "101892       18\n",
       "101539       17\n",
       "104691       17\n",
       "...          ..\n",
       "206638        1\n",
       "206639        1\n",
       "206641        1\n",
       "206648        1\n",
       "190139        1\n",
       "\n",
       "[54667 rows x 1 columns]"
      ]
     },
     "execution_count": 35,
     "metadata": {},
     "output_type": "execute_result"
    }
   ],
   "source": [
    "product_occurence = df_train[['id', 'product_uid']].groupby(['product_uid']).count()\n",
    "product_occurence.sort_values('id', ascending=False)\n"
   ]
  },
  {
   "cell_type": "code",
   "execution_count": 40,
   "id": "764996f5",
   "metadata": {},
   "outputs": [
    {
     "data": {
      "text/plain": [
       "(                  id    product_uid     relevance\n",
       " count   74067.000000   74067.000000  74067.000000\n",
       " mean   112385.709223  142331.911553      2.381634\n",
       " std     64016.573650   30770.774864      0.533984\n",
       " min         2.000000  100001.000000      1.000000\n",
       " 25%     57163.500000  115128.500000      2.000000\n",
       " 50%    113228.000000  137334.000000      2.330000\n",
       " 75%    168275.500000  166883.500000      3.000000\n",
       " max    221473.000000  206650.000000      3.000000,\n",
       " np.float64(2.355816895513522))"
      ]
     },
     "execution_count": 40,
     "metadata": {},
     "output_type": "execute_result"
    }
   ],
   "source": [
    "mean_training_data = df_train.describe()\n",
    "\n",
    "\n",
    "mean_training_data, mean_training_data['relevance'].median()"
   ]
  },
  {
   "cell_type": "code",
   "execution_count": 44,
   "id": "18994d3a",
   "metadata": {},
   "outputs": [
    {
     "data": {
      "image/png": "[encoded data removed]",
      "text/plain": [
       "<Figure size 600x400 with 1 Axes>"
      ]
     },
     "metadata": {},
     "output_type": "display_data"
    },
    {
     "data": {
      "image/png": "[encoded data removed]",
      "text/plain": [
       "<Figure size 600x200 with 1 Axes>"
      ]
     },
     "metadata": {},
     "output_type": "display_data"
    }
   ],
   "source": [
    "plt.figure(figsize=(6,4))\n",
    "plt.hist(df_train['relevance'], bins=20, color='skyblue', edgecolor='black')\n",
    "plt.title('Distribution of Relevance Scores')\n",
    "plt.xlabel('Relevance Score')\n",
    "plt.ylabel('Frequency')\n",
    "plt.tight_layout()\n",
    "plt.show()\n",
    "\n",
    "# Boxplot of relevance scores\n",
    "plt.figure(figsize=(6,2))\n",
    "sns.boxplot(x=df_train['relevance'], color='skyblue')\n",
    "plt.title('Boxplot of Relevance Scores')\n",
    "plt.xlabel('Relevance Score')\n",
    "plt.tight_layout()\n",
    "plt.show()"
   ]
  },
  {
   "cell_type": "code",
   "execution_count": 45,
   "id": "ced883cf",
   "metadata": {},
   "outputs": [
    {
     "name": "stdout",
     "output_type": "stream",
     "text": [
      "value\n",
      "Unbranded                     2954\n",
      "Hampton Bay                   1723\n",
      "KOHLER                        1389\n",
      "Everbilt                      1381\n",
      "Home Decorators Collection    1275\n",
      "Name: count, dtype: int64\n"
     ]
    }
   ],
   "source": [
    "brand_values = df_attr[df_attr['name'] == 'MFG Brand Name']['value']\n",
    "# Count the frequency of each brand and get the top 5\n",
    "top5_brands = brand_values.value_counts().head(5)\n",
    "print(top5_brands)\n"
   ]
  }
 ],
 "metadata": {
  "kernelspec": {
   "display_name": "venv",
   "language": "python",
   "name": "python3"
  },
  "language_info": {
   "codemirror_mode": {
    "name": "ipython",
    "version": 3
   },
   "file_extension": ".py",
   "mimetype": "text/x-python",
   "name": "python",
   "nbconvert_exporter": "python",
   "pygments_lexer": "ipython3",
   "version": "3.12.10"
  }
 },
 "nbformat": 4,
 "nbformat_minor": 5
}
